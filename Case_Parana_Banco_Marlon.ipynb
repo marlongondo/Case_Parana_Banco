{
 "cells": [
  {
   "cell_type": "markdown",
   "id": "9b07e2b7",
   "metadata": {},
   "source": [
    "# 1. Instalando as bibliotecas"
   ]
  },
  {
   "cell_type": "code",
   "execution_count": 1,
   "id": "68292303",
   "metadata": {},
   "outputs": [
    {
     "name": "stdout",
     "output_type": "stream",
     "text": [
      "Requirement already satisfied: xgboost in c:\\users\\marlon\\anaconda3\\lib\\site-packages (2.0.3)\n",
      "Requirement already satisfied: numpy in c:\\users\\marlon\\anaconda3\\lib\\site-packages (from xgboost) (1.26.4)\n",
      "Requirement already satisfied: scipy in c:\\users\\marlon\\anaconda3\\lib\\site-packages (from xgboost) (1.11.4)\n",
      "Note: you may need to restart the kernel to use updated packages.\n"
     ]
    }
   ],
   "source": [
    "pip install xgboost"
   ]
  },
  {
   "cell_type": "code",
   "execution_count": 2,
   "id": "3a9d3cf1-0149-4817-aec0-2c27fcf69f6f",
   "metadata": {},
   "outputs": [],
   "source": [
    "import pandas as pd\n",
    "import xgboost as xgb\n",
    "import numpy as np\n",
    "from sklearn.model_selection import GridSearchCV\n",
    "from sklearn.preprocessing import LabelEncoder\n",
    "from sklearn.model_selection import TimeSeriesSplit, GridSearchCV\n",
    "from sklearn.metrics import mean_absolute_error, mean_squared_error"
   ]
  },
  {
   "cell_type": "markdown",
   "id": "26640954",
   "metadata": {},
   "source": [
    "# 2. Leitura dos dados"
   ]
  },
  {
   "cell_type": "code",
   "execution_count": 3,
   "id": "729ba9dc-a37e-4a00-a300-899cfc825fab",
   "metadata": {
    "scrolled": true
   },
   "outputs": [
    {
     "data": {
      "text/html": [
       "<div>\n",
       "<style scoped>\n",
       "    .dataframe tbody tr th:only-of-type {\n",
       "        vertical-align: middle;\n",
       "    }\n",
       "\n",
       "    .dataframe tbody tr th {\n",
       "        vertical-align: top;\n",
       "    }\n",
       "\n",
       "    .dataframe thead th {\n",
       "        text-align: right;\n",
       "    }\n",
       "</style>\n",
       "<table border=\"1\" class=\"dataframe\">\n",
       "  <thead>\n",
       "    <tr style=\"text-align: right;\">\n",
       "      <th></th>\n",
       "      <th>id</th>\n",
       "      <th>contrato</th>\n",
       "      <th>data_operacao</th>\n",
       "      <th>nascimento</th>\n",
       "      <th>idade</th>\n",
       "      <th>genero</th>\n",
       "      <th>bairro</th>\n",
       "      <th>cidade</th>\n",
       "      <th>estado</th>\n",
       "      <th>cep</th>\n",
       "      <th>...</th>\n",
       "      <th>empregador</th>\n",
       "      <th>operacao</th>\n",
       "      <th>valor_principal</th>\n",
       "      <th>parcelas</th>\n",
       "      <th>quantidade_parcelas</th>\n",
       "      <th>parcelas_pagas</th>\n",
       "      <th>quantidade_parcelas_pagas</th>\n",
       "      <th>taxa_contrato</th>\n",
       "      <th>valor_parcela</th>\n",
       "      <th>valor_bruto</th>\n",
       "    </tr>\n",
       "  </thead>\n",
       "  <tbody>\n",
       "    <tr>\n",
       "      <th>0</th>\n",
       "      <td>682e8b505c30bb12052f9457516dc47e7eafc8ed</td>\n",
       "      <td>1760865030954</td>\n",
       "      <td>2019-09-13</td>\n",
       "      <td>1974-06-08</td>\n",
       "      <td>48</td>\n",
       "      <td>F</td>\n",
       "      <td>Conjunto Paulo Vi</td>\n",
       "      <td>Moreira</td>\n",
       "      <td>Rio de Janeiro</td>\n",
       "      <td>XXXXX-685</td>\n",
       "      <td>...</td>\n",
       "      <td>e53d5342e82e0ce6061bc3aaea1a986f24a73613</td>\n",
       "      <td>Prod</td>\n",
       "      <td>27810.69</td>\n",
       "      <td>100</td>\n",
       "      <td>100</td>\n",
       "      <td>20</td>\n",
       "      <td>20</td>\n",
       "      <td>1.46493</td>\n",
       "      <td>531.56</td>\n",
       "      <td>53156.0000</td>\n",
       "    </tr>\n",
       "    <tr>\n",
       "      <th>1</th>\n",
       "      <td>45ad9d444a276407df8b6f47c0fcc5b127dadaaa</td>\n",
       "      <td>6023030871505</td>\n",
       "      <td>2022-11-03</td>\n",
       "      <td>1988-07-23</td>\n",
       "      <td>34</td>\n",
       "      <td>F</td>\n",
       "      <td>Minas Caixa</td>\n",
       "      <td>da Mota de Azevedo</td>\n",
       "      <td>Amapá</td>\n",
       "      <td>XXXXX735</td>\n",
       "      <td>...</td>\n",
       "      <td>f715ffaf2c8294df43df3357c6a37f04b900fb06</td>\n",
       "      <td>Refin</td>\n",
       "      <td>9589.96</td>\n",
       "      <td>40</td>\n",
       "      <td>40</td>\n",
       "      <td>6</td>\n",
       "      <td>6</td>\n",
       "      <td>4.53587</td>\n",
       "      <td>523.82</td>\n",
       "      <td>20952.8000</td>\n",
       "    </tr>\n",
       "    <tr>\n",
       "      <th>2</th>\n",
       "      <td>81cec74ea2ca41535fee03daeb410ddbdf12906a</td>\n",
       "      <td>560263027614</td>\n",
       "      <td>2021-06-13</td>\n",
       "      <td>1975-08-17</td>\n",
       "      <td>Null</td>\n",
       "      <td>Null</td>\n",
       "      <td>Vila Mantiqueira</td>\n",
       "      <td>Rocha da Prata</td>\n",
       "      <td>Santa Catarina</td>\n",
       "      <td>XXXXX863</td>\n",
       "      <td>...</td>\n",
       "      <td>da9515ffa45dd12791be0941b91188e51fe1cc04</td>\n",
       "      <td>Prod</td>\n",
       "      <td>42963.20</td>\n",
       "      <td>100</td>\n",
       "      <td>100</td>\n",
       "      <td>10</td>\n",
       "      <td>10</td>\n",
       "      <td>1.44749</td>\n",
       "      <td>815.71</td>\n",
       "      <td>81571.0000</td>\n",
       "    </tr>\n",
       "    <tr>\n",
       "      <th>3</th>\n",
       "      <td>4e987d9178e2dcb07c2bf3878736233a676a0a87</td>\n",
       "      <td>1397061435926</td>\n",
       "      <td>2021-08-30</td>\n",
       "      <td>1982-08-17</td>\n",
       "      <td>40</td>\n",
       "      <td>F</td>\n",
       "      <td>Anchieta</td>\n",
       "      <td>da Mata</td>\n",
       "      <td>Null</td>\n",
       "      <td>Null</td>\n",
       "      <td>...</td>\n",
       "      <td>0c1741dc26339e6af3e4b6badcf984d383d1ca44</td>\n",
       "      <td>Port + Refin</td>\n",
       "      <td>2954.14</td>\n",
       "      <td>120</td>\n",
       "      <td>120</td>\n",
       "      <td>6</td>\n",
       "      <td>6</td>\n",
       "      <td>1.82904</td>\n",
       "      <td>60.96</td>\n",
       "      <td>7315.1997</td>\n",
       "    </tr>\n",
       "    <tr>\n",
       "      <th>4</th>\n",
       "      <td>595943ecdb32a24ccb6ef374b6d865f3b60d7130</td>\n",
       "      <td>3823566005671</td>\n",
       "      <td>2022-11-16</td>\n",
       "      <td>1985-07-14</td>\n",
       "      <td>37</td>\n",
       "      <td>F</td>\n",
       "      <td>Conjunto Floramar</td>\n",
       "      <td>Moreira de Goiás</td>\n",
       "      <td>Mato Grosso</td>\n",
       "      <td>XXXXX384</td>\n",
       "      <td>...</td>\n",
       "      <td>f97b240dc24290c19e717d7a654747aa31722ad3</td>\n",
       "      <td>Prod</td>\n",
       "      <td>31186.17</td>\n",
       "      <td>100</td>\n",
       "      <td>100</td>\n",
       "      <td>10</td>\n",
       "      <td>10</td>\n",
       "      <td>3.28340</td>\n",
       "      <td>1066.11</td>\n",
       "      <td>106611.0000</td>\n",
       "    </tr>\n",
       "  </tbody>\n",
       "</table>\n",
       "<p>5 rows × 24 columns</p>\n",
       "</div>"
      ],
      "text/plain": [
       "                                         id       contrato data_operacao  \\\n",
       "0  682e8b505c30bb12052f9457516dc47e7eafc8ed  1760865030954    2019-09-13   \n",
       "1  45ad9d444a276407df8b6f47c0fcc5b127dadaaa  6023030871505    2022-11-03   \n",
       "2  81cec74ea2ca41535fee03daeb410ddbdf12906a   560263027614    2021-06-13   \n",
       "3  4e987d9178e2dcb07c2bf3878736233a676a0a87  1397061435926    2021-08-30   \n",
       "4  595943ecdb32a24ccb6ef374b6d865f3b60d7130  3823566005671    2022-11-16   \n",
       "\n",
       "   nascimento idade genero             bairro              cidade  \\\n",
       "0  1974-06-08    48      F  Conjunto Paulo Vi             Moreira   \n",
       "1  1988-07-23    34      F        Minas Caixa  da Mota de Azevedo   \n",
       "2  1975-08-17  Null   Null   Vila Mantiqueira      Rocha da Prata   \n",
       "3  1982-08-17    40      F           Anchieta             da Mata   \n",
       "4  1985-07-14    37      F  Conjunto Floramar    Moreira de Goiás   \n",
       "\n",
       "           estado        cep  ...                                empregador  \\\n",
       "0  Rio de Janeiro  XXXXX-685  ...  e53d5342e82e0ce6061bc3aaea1a986f24a73613   \n",
       "1           Amapá   XXXXX735  ...  f715ffaf2c8294df43df3357c6a37f04b900fb06   \n",
       "2  Santa Catarina   XXXXX863  ...  da9515ffa45dd12791be0941b91188e51fe1cc04   \n",
       "3            Null       Null  ...  0c1741dc26339e6af3e4b6badcf984d383d1ca44   \n",
       "4     Mato Grosso   XXXXX384  ...  f97b240dc24290c19e717d7a654747aa31722ad3   \n",
       "\n",
       "       operacao valor_principal parcelas quantidade_parcelas parcelas_pagas  \\\n",
       "0          Prod        27810.69      100                 100             20   \n",
       "1         Refin         9589.96       40                  40              6   \n",
       "2          Prod        42963.20      100                 100             10   \n",
       "3  Port + Refin         2954.14      120                 120              6   \n",
       "4          Prod        31186.17      100                 100             10   \n",
       "\n",
       "   quantidade_parcelas_pagas  taxa_contrato  valor_parcela  valor_bruto  \n",
       "0                         20        1.46493         531.56   53156.0000  \n",
       "1                          6        4.53587         523.82   20952.8000  \n",
       "2                         10        1.44749         815.71   81571.0000  \n",
       "3                          6        1.82904          60.96    7315.1997  \n",
       "4                         10        3.28340        1066.11  106611.0000  \n",
       "\n",
       "[5 rows x 24 columns]"
      ]
     },
     "execution_count": 3,
     "metadata": {},
     "output_type": "execute_result"
    }
   ],
   "source": [
    "dados = pd.read_csv('dados_operacoes.csv', sep = ',')\n",
    "dados.head()"
   ]
  },
  {
   "cell_type": "markdown",
   "id": "f362c822",
   "metadata": {},
   "source": [
    "A partir de uma observação das primeiras linhas da nossa base de dados, podemos observar algumas variáveis categorizadas como \"Null\" em nossos dados, veremos se é possivel fazer um tratamento nelas logo a frente"
   ]
  },
  {
   "cell_type": "code",
   "execution_count": 4,
   "id": "4f875798",
   "metadata": {},
   "outputs": [
    {
     "data": {
      "text/plain": [
       "(14895, 24)"
      ]
     },
     "execution_count": 4,
     "metadata": {},
     "output_type": "execute_result"
    }
   ],
   "source": [
    "dados.shape"
   ]
  },
  {
   "cell_type": "markdown",
   "id": "f1c17ae3",
   "metadata": {},
   "source": [
    "# 3. Analise Inicial dos dados\n",
    "\n",
    "Verificando padrão dos dados e algumas estatísticas das variáveis "
   ]
  },
  {
   "cell_type": "markdown",
   "id": "13d704b3",
   "metadata": {},
   "source": [
    "## 3.1 Verificando as estatísticas do teste e o formato do dataframe"
   ]
  },
  {
   "cell_type": "code",
   "execution_count": 5,
   "id": "7814f4e6",
   "metadata": {
    "scrolled": true
   },
   "outputs": [
    {
     "data": {
      "text/html": [
       "<div>\n",
       "<style scoped>\n",
       "    .dataframe tbody tr th:only-of-type {\n",
       "        vertical-align: middle;\n",
       "    }\n",
       "\n",
       "    .dataframe tbody tr th {\n",
       "        vertical-align: top;\n",
       "    }\n",
       "\n",
       "    .dataframe thead th {\n",
       "        text-align: right;\n",
       "    }\n",
       "</style>\n",
       "<table border=\"1\" class=\"dataframe\">\n",
       "  <thead>\n",
       "    <tr style=\"text-align: right;\">\n",
       "      <th></th>\n",
       "      <th>contrato</th>\n",
       "      <th>valor_principal</th>\n",
       "      <th>parcelas</th>\n",
       "      <th>quantidade_parcelas</th>\n",
       "      <th>parcelas_pagas</th>\n",
       "      <th>quantidade_parcelas_pagas</th>\n",
       "      <th>taxa_contrato</th>\n",
       "      <th>valor_parcela</th>\n",
       "      <th>valor_bruto</th>\n",
       "    </tr>\n",
       "  </thead>\n",
       "  <tbody>\n",
       "    <tr>\n",
       "      <th>count</th>\n",
       "      <td>1.489500e+04</td>\n",
       "      <td>14895.000000</td>\n",
       "      <td>14895.000000</td>\n",
       "      <td>14895.000000</td>\n",
       "      <td>14895.000000</td>\n",
       "      <td>14895.000000</td>\n",
       "      <td>14895.000000</td>\n",
       "      <td>14895.000000</td>\n",
       "      <td>14895.000000</td>\n",
       "    </tr>\n",
       "    <tr>\n",
       "      <th>mean</th>\n",
       "      <td>4.986736e+12</td>\n",
       "      <td>23185.875466</td>\n",
       "      <td>68.224236</td>\n",
       "      <td>68.224236</td>\n",
       "      <td>15.739040</td>\n",
       "      <td>15.739040</td>\n",
       "      <td>2.134701</td>\n",
       "      <td>724.267448</td>\n",
       "      <td>47446.568597</td>\n",
       "    </tr>\n",
       "    <tr>\n",
       "      <th>std</th>\n",
       "      <td>2.894235e+12</td>\n",
       "      <td>13500.843754</td>\n",
       "      <td>27.128264</td>\n",
       "      <td>27.128264</td>\n",
       "      <td>17.519803</td>\n",
       "      <td>17.519803</td>\n",
       "      <td>1.341172</td>\n",
       "      <td>515.074503</td>\n",
       "      <td>39877.201593</td>\n",
       "    </tr>\n",
       "    <tr>\n",
       "      <th>min</th>\n",
       "      <td>7.105632e+08</td>\n",
       "      <td>203.550000</td>\n",
       "      <td>40.000000</td>\n",
       "      <td>40.000000</td>\n",
       "      <td>0.000000</td>\n",
       "      <td>0.000000</td>\n",
       "      <td>0.347370</td>\n",
       "      <td>3.050000</td>\n",
       "      <td>252.400000</td>\n",
       "    </tr>\n",
       "    <tr>\n",
       "      <th>25%</th>\n",
       "      <td>2.466882e+12</td>\n",
       "      <td>12484.045000</td>\n",
       "      <td>40.000000</td>\n",
       "      <td>40.000000</td>\n",
       "      <td>6.000000</td>\n",
       "      <td>6.000000</td>\n",
       "      <td>1.023490</td>\n",
       "      <td>336.700000</td>\n",
       "      <td>20689.500000</td>\n",
       "    </tr>\n",
       "    <tr>\n",
       "      <th>50%</th>\n",
       "      <td>4.964680e+12</td>\n",
       "      <td>20256.790000</td>\n",
       "      <td>60.000000</td>\n",
       "      <td>60.000000</td>\n",
       "      <td>9.000000</td>\n",
       "      <td>9.000000</td>\n",
       "      <td>1.793700</td>\n",
       "      <td>601.640000</td>\n",
       "      <td>38220.000000</td>\n",
       "    </tr>\n",
       "    <tr>\n",
       "      <th>75%</th>\n",
       "      <td>7.513420e+12</td>\n",
       "      <td>34651.280000</td>\n",
       "      <td>90.000000</td>\n",
       "      <td>90.000000</td>\n",
       "      <td>18.000000</td>\n",
       "      <td>18.000000</td>\n",
       "      <td>3.019275</td>\n",
       "      <td>1007.655000</td>\n",
       "      <td>61545.198000</td>\n",
       "    </tr>\n",
       "    <tr>\n",
       "      <th>max</th>\n",
       "      <td>9.999785e+12</td>\n",
       "      <td>49995.020000</td>\n",
       "      <td>120.000000</td>\n",
       "      <td>120.000000</td>\n",
       "      <td>108.000000</td>\n",
       "      <td>108.000000</td>\n",
       "      <td>6.461680</td>\n",
       "      <td>3063.990000</td>\n",
       "      <td>367678.800000</td>\n",
       "    </tr>\n",
       "  </tbody>\n",
       "</table>\n",
       "</div>"
      ],
      "text/plain": [
       "           contrato  valor_principal      parcelas  quantidade_parcelas  \\\n",
       "count  1.489500e+04     14895.000000  14895.000000         14895.000000   \n",
       "mean   4.986736e+12     23185.875466     68.224236            68.224236   \n",
       "std    2.894235e+12     13500.843754     27.128264            27.128264   \n",
       "min    7.105632e+08       203.550000     40.000000            40.000000   \n",
       "25%    2.466882e+12     12484.045000     40.000000            40.000000   \n",
       "50%    4.964680e+12     20256.790000     60.000000            60.000000   \n",
       "75%    7.513420e+12     34651.280000     90.000000            90.000000   \n",
       "max    9.999785e+12     49995.020000    120.000000           120.000000   \n",
       "\n",
       "       parcelas_pagas  quantidade_parcelas_pagas  taxa_contrato  \\\n",
       "count    14895.000000               14895.000000   14895.000000   \n",
       "mean        15.739040                  15.739040       2.134701   \n",
       "std         17.519803                  17.519803       1.341172   \n",
       "min          0.000000                   0.000000       0.347370   \n",
       "25%          6.000000                   6.000000       1.023490   \n",
       "50%          9.000000                   9.000000       1.793700   \n",
       "75%         18.000000                  18.000000       3.019275   \n",
       "max        108.000000                 108.000000       6.461680   \n",
       "\n",
       "       valor_parcela    valor_bruto  \n",
       "count   14895.000000   14895.000000  \n",
       "mean      724.267448   47446.568597  \n",
       "std       515.074503   39877.201593  \n",
       "min         3.050000     252.400000  \n",
       "25%       336.700000   20689.500000  \n",
       "50%       601.640000   38220.000000  \n",
       "75%      1007.655000   61545.198000  \n",
       "max      3063.990000  367678.800000  "
      ]
     },
     "execution_count": 5,
     "metadata": {},
     "output_type": "execute_result"
    }
   ],
   "source": [
    "dados.describe()"
   ]
  },
  {
   "cell_type": "code",
   "execution_count": 6,
   "id": "76455dff",
   "metadata": {},
   "outputs": [
    {
     "name": "stdout",
     "output_type": "stream",
     "text": [
      "<class 'pandas.core.frame.DataFrame'>\n",
      "RangeIndex: 14895 entries, 0 to 14894\n",
      "Data columns (total 24 columns):\n",
      " #   Column                     Non-Null Count  Dtype  \n",
      "---  ------                     --------------  -----  \n",
      " 0   id                         14895 non-null  object \n",
      " 1   contrato                   14895 non-null  int64  \n",
      " 2   data_operacao              14895 non-null  object \n",
      " 3   nascimento                 14895 non-null  object \n",
      " 4   idade                      14895 non-null  object \n",
      " 5   genero                     14895 non-null  object \n",
      " 6   bairro                     14895 non-null  object \n",
      " 7   cidade                     14895 non-null  object \n",
      " 8   estado                     14895 non-null  object \n",
      " 9   cep                        14895 non-null  object \n",
      " 10  telefone                   14895 non-null  object \n",
      " 11  cartao                     14895 non-null  object \n",
      " 12  email                      14895 non-null  object \n",
      " 13  ocupacao                   14895 non-null  object \n",
      " 14  empregador                 14895 non-null  object \n",
      " 15  operacao                   14895 non-null  object \n",
      " 16  valor_principal            14895 non-null  float64\n",
      " 17  parcelas                   14895 non-null  int64  \n",
      " 18  quantidade_parcelas        14895 non-null  int64  \n",
      " 19  parcelas_pagas             14895 non-null  int64  \n",
      " 20  quantidade_parcelas_pagas  14895 non-null  int64  \n",
      " 21  taxa_contrato              14895 non-null  float64\n",
      " 22  valor_parcela              14895 non-null  float64\n",
      " 23  valor_bruto                14895 non-null  float64\n",
      "dtypes: float64(4), int64(5), object(15)\n",
      "memory usage: 2.7+ MB\n"
     ]
    }
   ],
   "source": [
    "dados.info()"
   ]
  },
  {
   "cell_type": "markdown",
   "id": "574a69d5",
   "metadata": {},
   "source": [
    "A base de dados está identificando os valores classificados como \"Null\" como uma string apenas, vamos removê-las dos nossos dados mais à frente"
   ]
  },
  {
   "cell_type": "code",
   "execution_count": 7,
   "id": "03cfe9ad",
   "metadata": {},
   "outputs": [
    {
     "data": {
      "text/plain": [
       "id                            4998\n",
       "contrato                     14895\n",
       "data_operacao                 1457\n",
       "nascimento                    4099\n",
       "idade                           34\n",
       "genero                           3\n",
       "bairro                         483\n",
       "cidade                        1533\n",
       "estado                          28\n",
       "cep                           1782\n",
       "telefone                      4285\n",
       "cartao                        3910\n",
       "email                         5957\n",
       "ocupacao                       747\n",
       "empregador                    1597\n",
       "operacao                         3\n",
       "valor_principal              14875\n",
       "parcelas                         6\n",
       "quantidade_parcelas              6\n",
       "parcelas_pagas                  37\n",
       "quantidade_parcelas_pagas       37\n",
       "taxa_contrato                14626\n",
       "valor_parcela                14227\n",
       "valor_bruto                  14571\n",
       "dtype: int64"
      ]
     },
     "execution_count": 7,
     "metadata": {},
     "output_type": "execute_result"
    }
   ],
   "source": [
    "# Verificando a quantidade de valores distintos em cada variável\n",
    "dados.nunique()"
   ]
  },
  {
   "cell_type": "markdown",
   "id": "598043e1",
   "metadata": {},
   "source": [
    "## 3.2 Tratando os valores Null\n",
    "\n",
    "Vimos na leitura de tabela inicial que os dados possuem valores nulls, porém eles estão em formato de string, entao iremos transformar em null values, depois fazemos a contagem de nulos e a proporçao deles em relação ao total"
   ]
  },
  {
   "cell_type": "code",
   "execution_count": 8,
   "id": "ab3e6ca1",
   "metadata": {},
   "outputs": [],
   "source": [
    "dados.replace(\"Null\", pd.NaT, inplace = True)"
   ]
  },
  {
   "cell_type": "code",
   "execution_count": 9,
   "id": "86d6eccb",
   "metadata": {},
   "outputs": [
    {
     "name": "stdout",
     "output_type": "stream",
     "text": [
      "<class 'pandas.core.frame.DataFrame'>\n",
      "RangeIndex: 14895 entries, 0 to 14894\n",
      "Data columns (total 24 columns):\n",
      " #   Column                     Non-Null Count  Dtype  \n",
      "---  ------                     --------------  -----  \n",
      " 0   id                         14895 non-null  object \n",
      " 1   contrato                   14895 non-null  int64  \n",
      " 2   data_operacao              14895 non-null  object \n",
      " 3   nascimento                 14895 non-null  object \n",
      " 4   idade                      11890 non-null  object \n",
      " 5   genero                     13408 non-null  object \n",
      " 6   bairro                     12356 non-null  object \n",
      " 7   cidade                     12064 non-null  object \n",
      " 8   estado                     12661 non-null  object \n",
      " 9   cep                        11141 non-null  object \n",
      " 10  telefone                   10240 non-null  object \n",
      " 11  cartao                     9616 non-null   object \n",
      " 12  email                      10228 non-null  object \n",
      " 13  ocupacao                   12624 non-null  object \n",
      " 14  empregador                 11771 non-null  object \n",
      " 15  operacao                   14895 non-null  object \n",
      " 16  valor_principal            14895 non-null  float64\n",
      " 17  parcelas                   14895 non-null  int64  \n",
      " 18  quantidade_parcelas        14895 non-null  int64  \n",
      " 19  parcelas_pagas             14895 non-null  int64  \n",
      " 20  quantidade_parcelas_pagas  14895 non-null  int64  \n",
      " 21  taxa_contrato              14895 non-null  float64\n",
      " 22  valor_parcela              14895 non-null  float64\n",
      " 23  valor_bruto                14895 non-null  float64\n",
      "dtypes: float64(4), int64(5), object(15)\n",
      "memory usage: 2.7+ MB\n"
     ]
    }
   ],
   "source": [
    "dados.info()"
   ]
  },
  {
   "cell_type": "code",
   "execution_count": 10,
   "id": "009d2b21",
   "metadata": {},
   "outputs": [
    {
     "name": "stdout",
     "output_type": "stream",
     "text": [
      "id                              0\n",
      "contrato                        0\n",
      "data_operacao                   0\n",
      "nascimento                      0\n",
      "idade                        3005\n",
      "genero                       1487\n",
      "bairro                       2539\n",
      "cidade                       2831\n",
      "estado                       2234\n",
      "cep                          3754\n",
      "telefone                     4655\n",
      "cartao                       5279\n",
      "email                        4667\n",
      "ocupacao                     2271\n",
      "empregador                   3124\n",
      "operacao                        0\n",
      "valor_principal                 0\n",
      "parcelas                        0\n",
      "quantidade_parcelas             0\n",
      "parcelas_pagas                  0\n",
      "quantidade_parcelas_pagas       0\n",
      "taxa_contrato                   0\n",
      "valor_parcela                   0\n",
      "valor_bruto                     0\n",
      "dtype: int64\n"
     ]
    }
   ],
   "source": [
    "# Calculando valores quantidade de valores nulls\n",
    "\n",
    "valores_ausentes = dados.isnull().sum()\n",
    "print(valores_ausentes)"
   ]
  },
  {
   "cell_type": "code",
   "execution_count": 11,
   "id": "6f9abfd4",
   "metadata": {},
   "outputs": [
    {
     "name": "stdout",
     "output_type": "stream",
     "text": [
      "id                            0.000000\n",
      "contrato                      0.000000\n",
      "data_operacao                 0.000000\n",
      "nascimento                    0.000000\n",
      "idade                        20.174555\n",
      "genero                        9.983216\n",
      "bairro                       17.045989\n",
      "cidade                       19.006378\n",
      "estado                       14.998322\n",
      "cep                          25.203088\n",
      "telefone                     31.252098\n",
      "cartao                       35.441423\n",
      "email                        31.332662\n",
      "ocupacao                     15.246727\n",
      "empregador                   20.973481\n",
      "operacao                      0.000000\n",
      "valor_principal               0.000000\n",
      "parcelas                      0.000000\n",
      "quantidade_parcelas           0.000000\n",
      "parcelas_pagas                0.000000\n",
      "quantidade_parcelas_pagas     0.000000\n",
      "taxa_contrato                 0.000000\n",
      "valor_parcela                 0.000000\n",
      "valor_bruto                   0.000000\n",
      "dtype: float64\n"
     ]
    }
   ],
   "source": [
    "print((dados.isnull().sum()/(len(dados)))*100) # Calculando a porcentagem de valores nulos"
   ]
  },
  {
   "cell_type": "markdown",
   "id": "9f6edf1c",
   "metadata": {},
   "source": [
    "Podemos observar uma grande quantidade de dados nulos bem espalhada em nossa base de dados, para contornar tal problema, poderiamos completa-los, utilizando a mediana ou a média das observaçoes caso houvessem poucos nulos, em nosso caso, por ser haver diversos nulos espalhados em diversas colunas, e tambem devido a origem do problema proposto, iremos remover as colunas com nulos e utilizar apenas algumas colunas de interesse ao nosso modelo "
   ]
  },
  {
   "cell_type": "markdown",
   "id": "e66fae35",
   "metadata": {},
   "source": [
    "# 3. Manipulação da base de dados e análise das variáveis\n",
    "\n",
    "Como observamos no ultimo tópico, iremos utilizar apenas algumas variáveis para o nosso problema, faremos entao a seleção dessas variáveis e as analizaremos, verificando suas distribuições e possiveis outros problemas na estruturação e distribuição das variáveis"
   ]
  },
  {
   "cell_type": "markdown",
   "id": "d58c701c",
   "metadata": {},
   "source": [
    "## 3.1 Selecionando as variáveis de interesse\n",
    "\n",
    "Como o problema proposto é um problema de forecasting, precisamos utilizar apenas as variáveis de tempo e nossas targets, temos como alvo o volume e o valor da carteira, entao iremos selecionar essas variáveis"
   ]
  },
  {
   "cell_type": "code",
   "execution_count": 12,
   "id": "2128c6be",
   "metadata": {},
   "outputs": [
    {
     "name": "stdout",
     "output_type": "stream",
     "text": [
      "['id', 'contrato', 'nascimento', 'idade', 'genero', 'bairro', 'cidade', 'estado', 'cep', 'telefone', 'cartao', 'email', 'ocupacao', 'empregador', 'operacao', 'parcelas', 'quantidade_parcelas', 'parcelas_pagas', 'quantidade_parcelas_pagas', 'taxa_contrato', 'valor_parcela']\n"
     ]
    }
   ],
   "source": [
    "columns_to_keep = ['data_operacao','valor_principal', 'valor_bruto']\n",
    "columns_to_drop = [i for i in dados.columns if i not in columns_to_keep]\n",
    "\n",
    "print(columns_to_drop)"
   ]
  },
  {
   "cell_type": "code",
   "execution_count": 13,
   "id": "707598aa",
   "metadata": {},
   "outputs": [],
   "source": [
    "dados.drop(columns=columns_to_drop, axis=1, inplace=True)"
   ]
  },
  {
   "cell_type": "code",
   "execution_count": 14,
   "id": "d7726592",
   "metadata": {},
   "outputs": [
    {
     "data": {
      "text/plain": [
       "(14895, 3)"
      ]
     },
     "execution_count": 14,
     "metadata": {},
     "output_type": "execute_result"
    }
   ],
   "source": [
    "dados.shape"
   ]
  },
  {
   "cell_type": "code",
   "execution_count": 15,
   "id": "70639d39",
   "metadata": {},
   "outputs": [
    {
     "name": "stdout",
     "output_type": "stream",
     "text": [
      "<class 'pandas.core.frame.DataFrame'>\n",
      "RangeIndex: 14895 entries, 0 to 14894\n",
      "Data columns (total 3 columns):\n",
      " #   Column           Non-Null Count  Dtype  \n",
      "---  ------           --------------  -----  \n",
      " 0   data_operacao    14895 non-null  object \n",
      " 1   valor_principal  14895 non-null  float64\n",
      " 2   valor_bruto      14895 non-null  float64\n",
      "dtypes: float64(2), object(1)\n",
      "memory usage: 349.2+ KB\n"
     ]
    }
   ],
   "source": [
    "dados.info()"
   ]
  },
  {
   "cell_type": "code",
   "execution_count": 16,
   "id": "34cd338d",
   "metadata": {},
   "outputs": [],
   "source": [
    "dados_aux = dados.copy()"
   ]
  },
  {
   "cell_type": "markdown",
   "id": "451b8bf6",
   "metadata": {},
   "source": [
    "## 3.2 Transformando a variável de tempo no formato datetime"
   ]
  },
  {
   "cell_type": "code",
   "execution_count": 17,
   "id": "4b21973f",
   "metadata": {},
   "outputs": [],
   "source": [
    "dados['data_operacao'] = pd.to_datetime(dados.data_operacao, format='%Y-%m-%d')"
   ]
  },
  {
   "cell_type": "code",
   "execution_count": 18,
   "id": "58f3b854",
   "metadata": {},
   "outputs": [
    {
     "name": "stdout",
     "output_type": "stream",
     "text": [
      "<class 'pandas.core.frame.DataFrame'>\n",
      "RangeIndex: 14895 entries, 0 to 14894\n",
      "Data columns (total 3 columns):\n",
      " #   Column           Non-Null Count  Dtype         \n",
      "---  ------           --------------  -----         \n",
      " 0   data_operacao    14895 non-null  datetime64[ns]\n",
      " 1   valor_principal  14895 non-null  float64       \n",
      " 2   valor_bruto      14895 non-null  float64       \n",
      "dtypes: datetime64[ns](1), float64(2)\n",
      "memory usage: 349.2 KB\n"
     ]
    }
   ],
   "source": [
    "dados.info()"
   ]
  },
  {
   "cell_type": "markdown",
   "id": "8a641975",
   "metadata": {},
   "source": [
    "## 3.3 Agrupando valores por data para obter o valor principal e bruto total por dia e o volume de operações por dia"
   ]
  },
  {
   "cell_type": "code",
   "execution_count": 19,
   "id": "05b21996",
   "metadata": {},
   "outputs": [],
   "source": [
    "dados = dados.groupby(['data_operacao']).sum().reset_index()"
   ]
  },
  {
   "cell_type": "code",
   "execution_count": 20,
   "id": "48b71c17",
   "metadata": {},
   "outputs": [
    {
     "data": {
      "text/html": [
       "<div>\n",
       "<style scoped>\n",
       "    .dataframe tbody tr th:only-of-type {\n",
       "        vertical-align: middle;\n",
       "    }\n",
       "\n",
       "    .dataframe tbody tr th {\n",
       "        vertical-align: top;\n",
       "    }\n",
       "\n",
       "    .dataframe thead th {\n",
       "        text-align: right;\n",
       "    }\n",
       "</style>\n",
       "<table border=\"1\" class=\"dataframe\">\n",
       "  <thead>\n",
       "    <tr style=\"text-align: right;\">\n",
       "      <th></th>\n",
       "      <th>data_operacao</th>\n",
       "      <th>valor_principal</th>\n",
       "      <th>valor_bruto</th>\n",
       "      <th>qtd_op</th>\n",
       "    </tr>\n",
       "  </thead>\n",
       "  <tbody>\n",
       "    <tr>\n",
       "      <th>0</th>\n",
       "      <td>2019-01-01</td>\n",
       "      <td>107663.77</td>\n",
       "      <td>1.861155e+05</td>\n",
       "      <td>6</td>\n",
       "    </tr>\n",
       "    <tr>\n",
       "      <th>1</th>\n",
       "      <td>2019-01-02</td>\n",
       "      <td>226089.48</td>\n",
       "      <td>3.736158e+05</td>\n",
       "      <td>10</td>\n",
       "    </tr>\n",
       "    <tr>\n",
       "      <th>2</th>\n",
       "      <td>2019-01-03</td>\n",
       "      <td>210935.84</td>\n",
       "      <td>3.450784e+05</td>\n",
       "      <td>12</td>\n",
       "    </tr>\n",
       "    <tr>\n",
       "      <th>3</th>\n",
       "      <td>2019-01-04</td>\n",
       "      <td>85949.57</td>\n",
       "      <td>1.503219e+05</td>\n",
       "      <td>7</td>\n",
       "    </tr>\n",
       "    <tr>\n",
       "      <th>4</th>\n",
       "      <td>2019-01-05</td>\n",
       "      <td>95787.24</td>\n",
       "      <td>1.600302e+05</td>\n",
       "      <td>6</td>\n",
       "    </tr>\n",
       "    <tr>\n",
       "      <th>...</th>\n",
       "      <td>...</td>\n",
       "      <td>...</td>\n",
       "      <td>...</td>\n",
       "      <td>...</td>\n",
       "    </tr>\n",
       "    <tr>\n",
       "      <th>1452</th>\n",
       "      <td>2022-12-26</td>\n",
       "      <td>160835.74</td>\n",
       "      <td>6.118084e+05</td>\n",
       "      <td>8</td>\n",
       "    </tr>\n",
       "    <tr>\n",
       "      <th>1453</th>\n",
       "      <td>2022-12-27</td>\n",
       "      <td>331690.99</td>\n",
       "      <td>1.131008e+06</td>\n",
       "      <td>16</td>\n",
       "    </tr>\n",
       "    <tr>\n",
       "      <th>1454</th>\n",
       "      <td>2022-12-28</td>\n",
       "      <td>299305.49</td>\n",
       "      <td>9.200780e+05</td>\n",
       "      <td>11</td>\n",
       "    </tr>\n",
       "    <tr>\n",
       "      <th>1455</th>\n",
       "      <td>2022-12-29</td>\n",
       "      <td>325785.43</td>\n",
       "      <td>8.180298e+05</td>\n",
       "      <td>16</td>\n",
       "    </tr>\n",
       "    <tr>\n",
       "      <th>1456</th>\n",
       "      <td>2022-12-30</td>\n",
       "      <td>254971.48</td>\n",
       "      <td>8.764777e+05</td>\n",
       "      <td>9</td>\n",
       "    </tr>\n",
       "  </tbody>\n",
       "</table>\n",
       "<p>1457 rows × 4 columns</p>\n",
       "</div>"
      ],
      "text/plain": [
       "     data_operacao  valor_principal   valor_bruto  qtd_op\n",
       "0       2019-01-01        107663.77  1.861155e+05       6\n",
       "1       2019-01-02        226089.48  3.736158e+05      10\n",
       "2       2019-01-03        210935.84  3.450784e+05      12\n",
       "3       2019-01-04         85949.57  1.503219e+05       7\n",
       "4       2019-01-05         95787.24  1.600302e+05       6\n",
       "...            ...              ...           ...     ...\n",
       "1452    2022-12-26        160835.74  6.118084e+05       8\n",
       "1453    2022-12-27        331690.99  1.131008e+06      16\n",
       "1454    2022-12-28        299305.49  9.200780e+05      11\n",
       "1455    2022-12-29        325785.43  8.180298e+05      16\n",
       "1456    2022-12-30        254971.48  8.764777e+05       9\n",
       "\n",
       "[1457 rows x 4 columns]"
      ]
     },
     "execution_count": 20,
     "metadata": {},
     "output_type": "execute_result"
    }
   ],
   "source": [
    "dados['qtd_op'] = dados_aux.groupby('data_operacao').count().reset_index()['valor_principal']\n",
    "dados"
   ]
  },
  {
   "cell_type": "markdown",
   "id": "3df12597",
   "metadata": {},
   "source": [
    "## 3.4 Verificando a série temporal para \"valor_principal\", \"valor_bruto\" e \"qtd_op\""
   ]
  },
  {
   "cell_type": "code",
   "execution_count": 21,
   "id": "83bf4c1f",
   "metadata": {},
   "outputs": [
    {
     "data": {
      "text/plain": [
       "<Axes: xlabel='data_operacao'>"
      ]
     },
     "execution_count": 21,
     "metadata": {},
     "output_type": "execute_result"
    },
    {
     "data": {
      "image/png": "[encoded data removed]",
      "text/plain": [
       "<Figure size 640x480 with 1 Axes>"
      ]
     },
     "metadata": {},
     "output_type": "display_data"
    }
   ],
   "source": [
    "dados.plot(x=\"data_operacao\", y=\"valor_principal\")"
   ]
  },
  {
   "cell_type": "code",
   "execution_count": 22,
   "id": "68446cda",
   "metadata": {},
   "outputs": [
    {
     "data": {
      "text/plain": [
       "<Axes: xlabel='data_operacao'>"
      ]
     },
     "execution_count": 22,
     "metadata": {},
     "output_type": "execute_result"
    },
    {
     "data": {
      "image/png": "[encoded data removed]",
      "text/plain": [
       "<Figure size 640x480 with 1 Axes>"
      ]
     },
     "metadata": {},
     "output_type": "display_data"
    }
   ],
   "source": [
    "dados.plot(x=\"data_operacao\", y=\"valor_bruto\")"
   ]
  },
  {
   "cell_type": "code",
   "execution_count": 23,
   "id": "180041c4",
   "metadata": {},
   "outputs": [
    {
     "data": {
      "text/plain": [
       "<Axes: xlabel='data_operacao'>"
      ]
     },
     "execution_count": 23,
     "metadata": {},
     "output_type": "execute_result"
    },
    {
     "data": {
      "image/png": "[encoded data removed]",
      "text/plain": [
       "<Figure size 640x480 with 1 Axes>"
      ]
     },
     "metadata": {},
     "output_type": "display_data"
    }
   ],
   "source": [
    "dados.plot(x=\"data_operacao\", y=\"qtd_op\")"
   ]
  },
  {
   "cell_type": "markdown",
   "id": "4115f85d",
   "metadata": {},
   "source": [
    "Vemos que tanto a variável \"qtd_op\" quanto a variável \"valor_principal\" seguem um padrao parecido"
   ]
  },
  {
   "cell_type": "code",
   "execution_count": 24,
   "id": "4a19a4a1",
   "metadata": {},
   "outputs": [],
   "source": [
    "## 3.5 Criando variáveis relacionados a data para ajudar em nosso modelo de série temporal"
   ]
  },
  {
   "cell_type": "code",
   "execution_count": 25,
   "id": "1e73aef3",
   "metadata": {},
   "outputs": [
    {
     "data": {
      "text/html": [
       "<div>\n",
       "<style scoped>\n",
       "    .dataframe tbody tr th:only-of-type {\n",
       "        vertical-align: middle;\n",
       "    }\n",
       "\n",
       "    .dataframe tbody tr th {\n",
       "        vertical-align: top;\n",
       "    }\n",
       "\n",
       "    .dataframe thead th {\n",
       "        text-align: right;\n",
       "    }\n",
       "</style>\n",
       "<table border=\"1\" class=\"dataframe\">\n",
       "  <thead>\n",
       "    <tr style=\"text-align: right;\">\n",
       "      <th></th>\n",
       "      <th>data_operacao</th>\n",
       "      <th>valor_principal</th>\n",
       "      <th>valor_bruto</th>\n",
       "      <th>qtd_op</th>\n",
       "      <th>dia</th>\n",
       "      <th>mes</th>\n",
       "      <th>ano</th>\n",
       "      <th>dia_da_semana</th>\n",
       "    </tr>\n",
       "  </thead>\n",
       "  <tbody>\n",
       "    <tr>\n",
       "      <th>0</th>\n",
       "      <td>2019-01-01</td>\n",
       "      <td>107663.77</td>\n",
       "      <td>186115.500</td>\n",
       "      <td>6</td>\n",
       "      <td>1</td>\n",
       "      <td>1</td>\n",
       "      <td>2019</td>\n",
       "      <td>1</td>\n",
       "    </tr>\n",
       "    <tr>\n",
       "      <th>1</th>\n",
       "      <td>2019-01-02</td>\n",
       "      <td>226089.48</td>\n",
       "      <td>373615.800</td>\n",
       "      <td>10</td>\n",
       "      <td>2</td>\n",
       "      <td>1</td>\n",
       "      <td>2019</td>\n",
       "      <td>2</td>\n",
       "    </tr>\n",
       "    <tr>\n",
       "      <th>2</th>\n",
       "      <td>2019-01-03</td>\n",
       "      <td>210935.84</td>\n",
       "      <td>345078.399</td>\n",
       "      <td>12</td>\n",
       "      <td>3</td>\n",
       "      <td>1</td>\n",
       "      <td>2019</td>\n",
       "      <td>3</td>\n",
       "    </tr>\n",
       "    <tr>\n",
       "      <th>3</th>\n",
       "      <td>2019-01-04</td>\n",
       "      <td>85949.57</td>\n",
       "      <td>150321.898</td>\n",
       "      <td>7</td>\n",
       "      <td>4</td>\n",
       "      <td>1</td>\n",
       "      <td>2019</td>\n",
       "      <td>4</td>\n",
       "    </tr>\n",
       "    <tr>\n",
       "      <th>4</th>\n",
       "      <td>2019-01-05</td>\n",
       "      <td>95787.24</td>\n",
       "      <td>160030.200</td>\n",
       "      <td>6</td>\n",
       "      <td>5</td>\n",
       "      <td>1</td>\n",
       "      <td>2019</td>\n",
       "      <td>5</td>\n",
       "    </tr>\n",
       "  </tbody>\n",
       "</table>\n",
       "</div>"
      ],
      "text/plain": [
       "  data_operacao  valor_principal  valor_bruto  qtd_op  dia  mes   ano  \\\n",
       "0    2019-01-01        107663.77   186115.500       6    1    1  2019   \n",
       "1    2019-01-02        226089.48   373615.800      10    2    1  2019   \n",
       "2    2019-01-03        210935.84   345078.399      12    3    1  2019   \n",
       "3    2019-01-04         85949.57   150321.898       7    4    1  2019   \n",
       "4    2019-01-05         95787.24   160030.200       6    5    1  2019   \n",
       "\n",
       "   dia_da_semana  \n",
       "0              1  \n",
       "1              2  \n",
       "2              3  \n",
       "3              4  \n",
       "4              5  "
      ]
     },
     "execution_count": 25,
     "metadata": {},
     "output_type": "execute_result"
    }
   ],
   "source": [
    "dados[\"dia\"] = dados[\"data_operacao\"].dt.day\n",
    "dados[\"mes\"] = dados[\"data_operacao\"].dt.month\n",
    "dados[\"ano\"] = dados[\"data_operacao\"].dt.year\n",
    "dados[\"dia_da_semana\"] = dados[\"data_operacao\"].dt.dayofweek\n",
    "\n",
    "dados.head()"
   ]
  },
  {
   "cell_type": "code",
   "execution_count": 26,
   "id": "ee6c0ec7",
   "metadata": {},
   "outputs": [
    {
     "name": "stdout",
     "output_type": "stream",
     "text": [
      "<class 'pandas.core.frame.DataFrame'>\n",
      "RangeIndex: 1457 entries, 0 to 1456\n",
      "Data columns (total 8 columns):\n",
      " #   Column           Non-Null Count  Dtype         \n",
      "---  ------           --------------  -----         \n",
      " 0   data_operacao    1457 non-null   datetime64[ns]\n",
      " 1   valor_principal  1457 non-null   float64       \n",
      " 2   valor_bruto      1457 non-null   float64       \n",
      " 3   qtd_op           1457 non-null   int64         \n",
      " 4   dia              1457 non-null   int32         \n",
      " 5   mes              1457 non-null   int32         \n",
      " 6   ano              1457 non-null   int32         \n",
      " 7   dia_da_semana    1457 non-null   int32         \n",
      "dtypes: datetime64[ns](1), float64(2), int32(4), int64(1)\n",
      "memory usage: 68.4 KB\n"
     ]
    }
   ],
   "source": [
    "dados.info()"
   ]
  },
  {
   "cell_type": "code",
   "execution_count": 27,
   "id": "26658dfe",
   "metadata": {},
   "outputs": [
    {
     "data": {
      "text/plain": [
       "(1457, 8)"
      ]
     },
     "execution_count": 27,
     "metadata": {},
     "output_type": "execute_result"
    }
   ],
   "source": [
    "dados.shape"
   ]
  },
  {
   "cell_type": "markdown",
   "id": "197e550b",
   "metadata": {},
   "source": [
    "# 4. Criando dados de treino e teste \n",
    "\n",
    "Como tratamos com um problema de série temporal, não podemos fazer nossa separação de treino e teste de forma aleatória, "
   ]
  },
  {
   "cell_type": "code",
   "execution_count": 28,
   "id": "ce928bdd",
   "metadata": {},
   "outputs": [
    {
     "name": "stdout",
     "output_type": "stream",
     "text": [
      "2019-01-01 00:00:00\n",
      "2022-12-30 00:00:00\n",
      "1459\n"
     ]
    }
   ],
   "source": [
    "print(dados['data_operacao'].min())\n",
    "print(dados['data_operacao'].max())\n",
    "print((dados['data_operacao'].max() - dados['data_operacao'].min()).days)"
   ]
  },
  {
   "cell_type": "markdown",
   "id": "8e11b972",
   "metadata": {},
   "source": [
    "Separamos os dados com datas menores que 31/03/22 pra treino (aproximadamente 80% dos dados) e dados com datas maiores que 01/04/22 pra testarmos nosso modelo"
   ]
  },
  {
   "cell_type": "code",
   "execution_count": 29,
   "id": "ee46c94b",
   "metadata": {},
   "outputs": [],
   "source": [
    "train = dados[dados['data_operacao'].between(\"2019-01-01\",\"2022-03-31\")] #~10^6 linhas!\n",
    "test  = dados[dados['data_operacao'].between(\"2022-04-01\",\"2022-12-30\")]"
   ]
  },
  {
   "cell_type": "code",
   "execution_count": 30,
   "id": "2589bfcd",
   "metadata": {},
   "outputs": [
    {
     "name": "stdout",
     "output_type": "stream",
     "text": [
      "(1183, 8)\n",
      "(274, 8)\n"
     ]
    }
   ],
   "source": [
    "print(train.shape)\n",
    "print(test.shape)"
   ]
  },
  {
   "cell_type": "code",
   "execution_count": 31,
   "id": "5c45fa30",
   "metadata": {},
   "outputs": [
    {
     "data": {
      "text/html": [
       "<div>\n",
       "<style scoped>\n",
       "    .dataframe tbody tr th:only-of-type {\n",
       "        vertical-align: middle;\n",
       "    }\n",
       "\n",
       "    .dataframe tbody tr th {\n",
       "        vertical-align: top;\n",
       "    }\n",
       "\n",
       "    .dataframe thead th {\n",
       "        text-align: right;\n",
       "    }\n",
       "</style>\n",
       "<table border=\"1\" class=\"dataframe\">\n",
       "  <thead>\n",
       "    <tr style=\"text-align: right;\">\n",
       "      <th></th>\n",
       "      <th>data_operacao</th>\n",
       "      <th>valor_principal</th>\n",
       "      <th>valor_bruto</th>\n",
       "      <th>qtd_op</th>\n",
       "      <th>dia</th>\n",
       "      <th>mes</th>\n",
       "      <th>ano</th>\n",
       "      <th>dia_da_semana</th>\n",
       "    </tr>\n",
       "  </thead>\n",
       "  <tbody>\n",
       "    <tr>\n",
       "      <th>0</th>\n",
       "      <td>2019-01-01</td>\n",
       "      <td>107663.77</td>\n",
       "      <td>186115.500</td>\n",
       "      <td>6</td>\n",
       "      <td>1</td>\n",
       "      <td>1</td>\n",
       "      <td>2019</td>\n",
       "      <td>1</td>\n",
       "    </tr>\n",
       "    <tr>\n",
       "      <th>1</th>\n",
       "      <td>2019-01-02</td>\n",
       "      <td>226089.48</td>\n",
       "      <td>373615.800</td>\n",
       "      <td>10</td>\n",
       "      <td>2</td>\n",
       "      <td>1</td>\n",
       "      <td>2019</td>\n",
       "      <td>2</td>\n",
       "    </tr>\n",
       "    <tr>\n",
       "      <th>2</th>\n",
       "      <td>2019-01-03</td>\n",
       "      <td>210935.84</td>\n",
       "      <td>345078.399</td>\n",
       "      <td>12</td>\n",
       "      <td>3</td>\n",
       "      <td>1</td>\n",
       "      <td>2019</td>\n",
       "      <td>3</td>\n",
       "    </tr>\n",
       "    <tr>\n",
       "      <th>3</th>\n",
       "      <td>2019-01-04</td>\n",
       "      <td>85949.57</td>\n",
       "      <td>150321.898</td>\n",
       "      <td>7</td>\n",
       "      <td>4</td>\n",
       "      <td>1</td>\n",
       "      <td>2019</td>\n",
       "      <td>4</td>\n",
       "    </tr>\n",
       "    <tr>\n",
       "      <th>4</th>\n",
       "      <td>2019-01-05</td>\n",
       "      <td>95787.24</td>\n",
       "      <td>160030.200</td>\n",
       "      <td>6</td>\n",
       "      <td>5</td>\n",
       "      <td>1</td>\n",
       "      <td>2019</td>\n",
       "      <td>5</td>\n",
       "    </tr>\n",
       "  </tbody>\n",
       "</table>\n",
       "</div>"
      ],
      "text/plain": [
       "  data_operacao  valor_principal  valor_bruto  qtd_op  dia  mes   ano  \\\n",
       "0    2019-01-01        107663.77   186115.500       6    1    1  2019   \n",
       "1    2019-01-02        226089.48   373615.800      10    2    1  2019   \n",
       "2    2019-01-03        210935.84   345078.399      12    3    1  2019   \n",
       "3    2019-01-04         85949.57   150321.898       7    4    1  2019   \n",
       "4    2019-01-05         95787.24   160030.200       6    5    1  2019   \n",
       "\n",
       "   dia_da_semana  \n",
       "0              1  \n",
       "1              2  \n",
       "2              3  \n",
       "3              4  \n",
       "4              5  "
      ]
     },
     "execution_count": 31,
     "metadata": {},
     "output_type": "execute_result"
    }
   ],
   "source": [
    "train.head()"
   ]
  },
  {
   "cell_type": "markdown",
   "id": "69450a0b",
   "metadata": {},
   "source": [
    "## 4.1 Separando as features das colunas de target "
   ]
  },
  {
   "cell_type": "code",
   "execution_count": 32,
   "id": "0f3a23a9",
   "metadata": {},
   "outputs": [],
   "source": [
    "X_train = train[[\"dia\", \"mes\", \"ano\", \"dia_da_semana\"]]\n",
    "y_train = train[\"valor_principal\"]\n",
    "y_train_bruto = train[\"valor_bruto\"] \n",
    "y_train_qtd = train[\"qtd_op\"] \n",
    "\n",
    "X_test = test[[\"dia\", \"mes\", \"ano\", \"dia_da_semana\"]]\n",
    "y_test = test[\"valor_principal\"]\n",
    "y_test_bruto = test[\"valor_bruto\"] \n",
    "y_test_qtd = test[\"qtd_op\"]"
   ]
  },
  {
   "cell_type": "code",
   "execution_count": 33,
   "id": "a00b1752",
   "metadata": {},
   "outputs": [
    {
     "data": {
      "text/html": [
       "<div>\n",
       "<style scoped>\n",
       "    .dataframe tbody tr th:only-of-type {\n",
       "        vertical-align: middle;\n",
       "    }\n",
       "\n",
       "    .dataframe tbody tr th {\n",
       "        vertical-align: top;\n",
       "    }\n",
       "\n",
       "    .dataframe thead th {\n",
       "        text-align: right;\n",
       "    }\n",
       "</style>\n",
       "<table border=\"1\" class=\"dataframe\">\n",
       "  <thead>\n",
       "    <tr style=\"text-align: right;\">\n",
       "      <th></th>\n",
       "      <th>dia</th>\n",
       "      <th>mes</th>\n",
       "      <th>ano</th>\n",
       "      <th>dia_da_semana</th>\n",
       "    </tr>\n",
       "  </thead>\n",
       "  <tbody>\n",
       "    <tr>\n",
       "      <th>0</th>\n",
       "      <td>1</td>\n",
       "      <td>1</td>\n",
       "      <td>2019</td>\n",
       "      <td>1</td>\n",
       "    </tr>\n",
       "    <tr>\n",
       "      <th>1</th>\n",
       "      <td>2</td>\n",
       "      <td>1</td>\n",
       "      <td>2019</td>\n",
       "      <td>2</td>\n",
       "    </tr>\n",
       "    <tr>\n",
       "      <th>2</th>\n",
       "      <td>3</td>\n",
       "      <td>1</td>\n",
       "      <td>2019</td>\n",
       "      <td>3</td>\n",
       "    </tr>\n",
       "    <tr>\n",
       "      <th>3</th>\n",
       "      <td>4</td>\n",
       "      <td>1</td>\n",
       "      <td>2019</td>\n",
       "      <td>4</td>\n",
       "    </tr>\n",
       "    <tr>\n",
       "      <th>4</th>\n",
       "      <td>5</td>\n",
       "      <td>1</td>\n",
       "      <td>2019</td>\n",
       "      <td>5</td>\n",
       "    </tr>\n",
       "    <tr>\n",
       "      <th>...</th>\n",
       "      <td>...</td>\n",
       "      <td>...</td>\n",
       "      <td>...</td>\n",
       "      <td>...</td>\n",
       "    </tr>\n",
       "    <tr>\n",
       "      <th>1178</th>\n",
       "      <td>27</td>\n",
       "      <td>3</td>\n",
       "      <td>2022</td>\n",
       "      <td>6</td>\n",
       "    </tr>\n",
       "    <tr>\n",
       "      <th>1179</th>\n",
       "      <td>28</td>\n",
       "      <td>3</td>\n",
       "      <td>2022</td>\n",
       "      <td>0</td>\n",
       "    </tr>\n",
       "    <tr>\n",
       "      <th>1180</th>\n",
       "      <td>29</td>\n",
       "      <td>3</td>\n",
       "      <td>2022</td>\n",
       "      <td>1</td>\n",
       "    </tr>\n",
       "    <tr>\n",
       "      <th>1181</th>\n",
       "      <td>30</td>\n",
       "      <td>3</td>\n",
       "      <td>2022</td>\n",
       "      <td>2</td>\n",
       "    </tr>\n",
       "    <tr>\n",
       "      <th>1182</th>\n",
       "      <td>31</td>\n",
       "      <td>3</td>\n",
       "      <td>2022</td>\n",
       "      <td>3</td>\n",
       "    </tr>\n",
       "  </tbody>\n",
       "</table>\n",
       "<p>1183 rows × 4 columns</p>\n",
       "</div>"
      ],
      "text/plain": [
       "      dia  mes   ano  dia_da_semana\n",
       "0       1    1  2019              1\n",
       "1       2    1  2019              2\n",
       "2       3    1  2019              3\n",
       "3       4    1  2019              4\n",
       "4       5    1  2019              5\n",
       "...   ...  ...   ...            ...\n",
       "1178   27    3  2022              6\n",
       "1179   28    3  2022              0\n",
       "1180   29    3  2022              1\n",
       "1181   30    3  2022              2\n",
       "1182   31    3  2022              3\n",
       "\n",
       "[1183 rows x 4 columns]"
      ]
     },
     "execution_count": 33,
     "metadata": {},
     "output_type": "execute_result"
    }
   ],
   "source": [
    "X_train"
   ]
  },
  {
   "cell_type": "code",
   "execution_count": 34,
   "id": "e9303b3f",
   "metadata": {
    "scrolled": true
   },
   "outputs": [
    {
     "name": "stdout",
     "output_type": "stream",
     "text": [
      "(1183, 4)\n",
      "(1183,)\n",
      "(1183,)\n",
      "(1183,)\n",
      "(274, 4)\n",
      "(274,)\n",
      "(274,)\n",
      "(274,)\n"
     ]
    }
   ],
   "source": [
    "print(X_train.shape)\n",
    "print(y_train.shape)\n",
    "print(y_train_bruto.shape)\n",
    "print(y_train_qtd.shape)\n",
    "\n",
    "print(X_test.shape)\n",
    "print(y_test.shape)\n",
    "print(y_test_bruto.shape)\n",
    "print(y_test_qtd.shape)\n"
   ]
  },
  {
   "cell_type": "markdown",
   "id": "dc6d5c77",
   "metadata": {},
   "source": [
    "# 5. Criando modelo XGBoost"
   ]
  },
  {
   "cell_type": "markdown",
   "id": "b3cc919e",
   "metadata": {},
   "source": [
    "## 5.1 XGBoost para \"valor_principal\""
   ]
  },
  {
   "cell_type": "code",
   "execution_count": 35,
   "id": "0b09c11a",
   "metadata": {},
   "outputs": [
    {
     "name": "stdout",
     "output_type": "stream",
     "text": [
      "Best set of hyperparameters:  {'learning_rate': 0.01, 'max_depth': 3, 'subsample': 1}\n"
     ]
    }
   ],
   "source": [
    "# XGBoost\n",
    "\n",
    "cv_split = TimeSeriesSplit(n_splits=4, test_size=100)\n",
    "modelo = xgb.XGBRegressor()\n",
    "params = {\n",
    "    'max_depth': [3, 5, 7],\n",
    "    'learning_rate': [0.1, 0.01, 0.001],\n",
    "    'subsample': [0.5, 0.7, 1]\n",
    "}\n",
    "\n",
    "\n",
    "grid_search = GridSearchCV(estimator=modelo, cv=cv_split, param_grid=params)\n",
    "grid_search.fit(X_train, y_train)\n",
    "melhores_params = grid_search.best_params_\n",
    "\n",
    "print(\"Best set of hyperparameters: \", melhores_params)"
   ]
  },
  {
   "cell_type": "code",
   "execution_count": 36,
   "id": "868b8ce1",
   "metadata": {},
   "outputs": [
    {
     "data": {
      "text/html": [
       "<style>#sk-container-id-1 {color: black;background-color: white;}#sk-container-id-1 pre{padding: 0;}#sk-container-id-1 div.sk-toggleable {background-color: white;}#sk-container-id-1 label.sk-toggleable__label {cursor: pointer;display: block;width: 100%;margin-bottom: 0;padding: 0.3em;box-sizing: border-box;text-align: center;}#sk-container-id-1 label.sk-toggleable__label-arrow:before {content: \"▸\";float: left;margin-right: 0.25em;color: #696969;}#sk-container-id-1 label.sk-toggleable__label-arrow:hover:before {color: black;}#sk-container-id-1 div.sk-estimator:hover label.sk-toggleable__label-arrow:before {color: black;}#sk-container-id-1 div.sk-toggleable__content {max-height: 0;max-width: 0;overflow: hidden;text-align: left;background-color: #f0f8ff;}#sk-container-id-1 div.sk-toggleable__content pre {margin: 0.2em;color: black;border-radius: 0.25em;background-color: #f0f8ff;}#sk-container-id-1 input.sk-toggleable__control:checked~div.sk-toggleable__content {max-height: 200px;max-width: 100%;overflow: auto;}#sk-container-id-1 input.sk-toggleable__control:checked~label.sk-toggleable__label-arrow:before {content: \"▾\";}#sk-container-id-1 div.sk-estimator input.sk-toggleable__control:checked~label.sk-toggleable__label {background-color: #d4ebff;}#sk-container-id-1 div.sk-label input.sk-toggleable__control:checked~label.sk-toggleable__label {background-color: #d4ebff;}#sk-container-id-1 input.sk-hidden--visually {border: 0;clip: rect(1px 1px 1px 1px);clip: rect(1px, 1px, 1px, 1px);height: 1px;margin: -1px;overflow: hidden;padding: 0;position: absolute;width: 1px;}#sk-container-id-1 div.sk-estimator {font-family: monospace;background-color: #f0f8ff;border: 1px dotted black;border-radius: 0.25em;box-sizing: border-box;margin-bottom: 0.5em;}#sk-container-id-1 div.sk-estimator:hover {background-color: #d4ebff;}#sk-container-id-1 div.sk-parallel-item::after {content: \"\";width: 100%;border-bottom: 1px solid gray;flex-grow: 1;}#sk-container-id-1 div.sk-label:hover label.sk-toggleable__label {background-color: #d4ebff;}#sk-container-id-1 div.sk-serial::before {content: \"\";position: absolute;border-left: 1px solid gray;box-sizing: border-box;top: 0;bottom: 0;left: 50%;z-index: 0;}#sk-container-id-1 div.sk-serial {display: flex;flex-direction: column;align-items: center;background-color: white;padding-right: 0.2em;padding-left: 0.2em;position: relative;}#sk-container-id-1 div.sk-item {position: relative;z-index: 1;}#sk-container-id-1 div.sk-parallel {display: flex;align-items: stretch;justify-content: center;background-color: white;position: relative;}#sk-container-id-1 div.sk-item::before, #sk-container-id-1 div.sk-parallel-item::before {content: \"\";position: absolute;border-left: 1px solid gray;box-sizing: border-box;top: 0;bottom: 0;left: 50%;z-index: -1;}#sk-container-id-1 div.sk-parallel-item {display: flex;flex-direction: column;z-index: 1;position: relative;background-color: white;}#sk-container-id-1 div.sk-parallel-item:first-child::after {align-self: flex-end;width: 50%;}#sk-container-id-1 div.sk-parallel-item:last-child::after {align-self: flex-start;width: 50%;}#sk-container-id-1 div.sk-parallel-item:only-child::after {width: 0;}#sk-container-id-1 div.sk-dashed-wrapped {border: 1px dashed gray;margin: 0 0.4em 0.5em 0.4em;box-sizing: border-box;padding-bottom: 0.4em;background-color: white;}#sk-container-id-1 div.sk-label label {font-family: monospace;font-weight: bold;display: inline-block;line-height: 1.2em;}#sk-container-id-1 div.sk-label-container {text-align: center;}#sk-container-id-1 div.sk-container {/* jupyter's `normalize.less` sets `[hidden] { display: none; }` but bootstrap.min.css set `[hidden] { display: none !important; }` so we also need the `!important` here to be able to override the default hidden behavior on the sphinx rendered scikit-learn.org. See: https://github.com/scikit-learn/scikit-learn/issues/21755 */display: inline-block !important;position: relative;}#sk-container-id-1 div.sk-text-repr-fallback {display: none;}</style><div id=\"sk-container-id-1\" class=\"sk-top-container\"><div class=\"sk-text-repr-fallback\"><pre>XGBRegressor(base_score=None, booster=None, callbacks=None,\n",
       "             colsample_bylevel=None, colsample_bynode=None,\n",
       "             colsample_bytree=None, device=None, early_stopping_rounds=None,\n",
       "             enable_categorical=False, eval_metric=None, feature_types=None,\n",
       "             gamma=None, grow_policy=None, importance_type=None,\n",
       "             interaction_constraints=None, learning_rate=0.01, max_bin=None,\n",
       "             max_cat_threshold=None, max_cat_to_onehot=None,\n",
       "             max_delta_step=None, max_depth=3, max_leaves=None,\n",
       "             min_child_weight=None, missing=nan, monotone_constraints=None,\n",
       "             multi_strategy=None, n_estimators=None, n_jobs=None,\n",
       "             num_parallel_tree=None, random_state=None, ...)</pre><b>In a Jupyter environment, please rerun this cell to show the HTML representation or trust the notebook. <br />On GitHub, the HTML representation is unable to render, please try loading this page with nbviewer.org.</b></div><div class=\"sk-container\" hidden><div class=\"sk-item\"><div class=\"sk-estimator sk-toggleable\"><input class=\"sk-toggleable__control sk-hidden--visually\" id=\"sk-estimator-id-1\" type=\"checkbox\" checked><label for=\"sk-estimator-id-1\" class=\"sk-toggleable__label sk-toggleable__label-arrow\">XGBRegressor</label><div class=\"sk-toggleable__content\"><pre>XGBRegressor(base_score=None, booster=None, callbacks=None,\n",
       "             colsample_bylevel=None, colsample_bynode=None,\n",
       "             colsample_bytree=None, device=None, early_stopping_rounds=None,\n",
       "             enable_categorical=False, eval_metric=None, feature_types=None,\n",
       "             gamma=None, grow_policy=None, importance_type=None,\n",
       "             interaction_constraints=None, learning_rate=0.01, max_bin=None,\n",
       "             max_cat_threshold=None, max_cat_to_onehot=None,\n",
       "             max_delta_step=None, max_depth=3, max_leaves=None,\n",
       "             min_child_weight=None, missing=nan, monotone_constraints=None,\n",
       "             multi_strategy=None, n_estimators=None, n_jobs=None,\n",
       "             num_parallel_tree=None, random_state=None, ...)</pre></div></div></div></div></div>"
      ],
      "text/plain": [
       "XGBRegressor(base_score=None, booster=None, callbacks=None,\n",
       "             colsample_bylevel=None, colsample_bynode=None,\n",
       "             colsample_bytree=None, device=None, early_stopping_rounds=None,\n",
       "             enable_categorical=False, eval_metric=None, feature_types=None,\n",
       "             gamma=None, grow_policy=None, importance_type=None,\n",
       "             interaction_constraints=None, learning_rate=0.01, max_bin=None,\n",
       "             max_cat_threshold=None, max_cat_to_onehot=None,\n",
       "             max_delta_step=None, max_depth=3, max_leaves=None,\n",
       "             min_child_weight=None, missing=nan, monotone_constraints=None,\n",
       "             multi_strategy=None, n_estimators=None, n_jobs=None,\n",
       "             num_parallel_tree=None, random_state=None, ...)"
      ]
     },
     "execution_count": 36,
     "metadata": {},
     "output_type": "execute_result"
    }
   ],
   "source": [
    "xgb_model = xgb.XGBRegressor(**melhores_params)\n",
    "\n",
    "xgb_model.fit(X_train, y_train)"
   ]
  },
  {
   "cell_type": "code",
   "execution_count": 37,
   "id": "ad869f34",
   "metadata": {},
   "outputs": [
    {
     "data": {
      "text/plain": [
       "75805.19147810219"
      ]
     },
     "execution_count": 37,
     "metadata": {},
     "output_type": "execute_result"
    }
   ],
   "source": [
    "predictions = xgb_model.predict(X_test)\n",
    "\n",
    "mae = mean_absolute_error(y_test, predictions)\n",
    "\n",
    "rmse = np.sqrt(mean_squared_error(y_test, predictions))\n",
    "\n",
    "mae"
   ]
  },
  {
   "cell_type": "markdown",
   "id": "3968b20d",
   "metadata": {},
   "source": [
    "### 5.1.1 Predizendo o futuro"
   ]
  },
  {
   "cell_type": "code",
   "execution_count": 38,
   "id": "c2974615",
   "metadata": {},
   "outputs": [],
   "source": [
    "future = pd.Series(pd.date_range(\"2023\", freq=\"D\", periods=365*2))\n",
    "future_df = pd.DataFrame({'Date': future})\n",
    "future_df[\"dia\"] = future_df[\"Date\"].dt.day\n",
    "future_df[\"mes\"] = future_df[\"Date\"].dt.month\n",
    "future_df[\"ano\"] = future_df[\"Date\"].dt.year\n",
    "future_df[\"dia_da_semana\"] = future_df[\"Date\"].dt.dayofweek\n",
    "X_all = future_df[['dia', 'mes', 'ano', 'dia_da_semana']]"
   ]
  },
  {
   "cell_type": "code",
   "execution_count": 39,
   "id": "92fa4803",
   "metadata": {},
   "outputs": [
    {
     "data": {
      "text/plain": [
       "array([290420.3 , 280711.44, 277859.6 , 281195.28, 281195.28, 281195.28,\n",
       "       281195.28, 281195.28, 277859.6 , 277457.7 , 281396.34, 281396.34,\n",
       "       268287.1 , 268287.1 , 268287.1 , 264951.38, 264951.38, 270991.8 ,\n",
       "       270991.8 , 267018.7 , 262710.7 , 262710.7 , 263683.  , 263683.  ,\n",
       "       267018.7 , 260201.78, 255000.48, 249377.44, 249377.44, 252910.78,\n",
       "       252910.78, 290420.3 , 284047.16, 281195.28, 281195.28, 281195.28,\n",
       "       277859.6 , 277859.6 , 281195.28, 281195.28, 280793.38, 281396.34,\n",
       "       281396.34, 264951.38, 264951.38, 268287.1 , 268287.1 , 268287.1 ,\n",
       "       270991.8 , 270991.8 , 263683.  , 263683.  , 267018.7 , 267018.7 ,\n",
       "       267018.7 , 262710.7 , 253332.73, 252910.78, 252910.78, 290420.3 ,\n",
       "       284047.16, 281195.28, 281195.28, 281195.28, 277859.6 , 277859.6 ,\n",
       "       281195.28, 281195.28, 280793.38, 281396.34, 281396.34, 264951.38,\n",
       "       264951.38, 268287.1 , 268287.1 , 268287.1 , 270991.8 , 270991.8 ,\n",
       "       263683.  , 263683.  , 267018.7 , 267018.7 , 267018.7 , 262710.7 ,\n",
       "       253697.33, 253275.38, 253275.38, 256611.08, 256611.08, 255365.08,\n",
       "       290420.3 , 284047.16, 277859.6 , 277859.6 , 281195.28, 281195.28,\n",
       "       281195.28, 281195.28, 281195.28, 277457.7 , 278060.66, 281396.34,\n",
       "       268287.1 , 268287.1 , 268287.1 , 268287.1 , 264951.38, 267656.16,\n",
       "       270991.8 , 267018.7 , 267018.7 , 262710.7 , 262710.7 , 263683.  ,\n",
       "       263683.  , 260566.38, 256611.08, 255365.08, 249742.03, 249742.03,\n",
       "       287084.62, 280711.44, 281195.28, 281195.28, 281195.28, 281195.28,\n",
       "       281195.28, 277859.6 , 277859.6 , 280793.38, 281396.34, 281396.34,\n",
       "       268287.1 , 268287.1 , 264951.38, 264951.38, 268287.1 , 270991.8 ,\n",
       "       270991.8 , 262710.7 , 262710.7 , 263683.  , 263683.  , 267018.7 ,\n",
       "       267018.7 , 257531.48, 247953.14, 247953.14, 251486.47, 251486.47,\n",
       "       254822.17, 290420.3 , 284047.16, 281195.28, 281195.28, 277859.6 ,\n",
       "       277859.6 , 281195.28, 281195.28, 281195.28, 280793.38, 281396.34,\n",
       "       278060.66, 264951.38, 268287.1 , 268287.1 , 268287.1 , 268287.1 ,\n",
       "       270991.8 , 267656.16, 263683.  , 267018.7 , 267018.7 , 267018.7 ,\n",
       "       262710.7 , 262710.7 , 255441.78, 251486.47, 254822.17, 254822.17,\n",
       "       253576.17, 290420.3 , 284047.16, 277859.6 , 277859.6 , 281195.28,\n",
       "       281195.28, 281195.28, 281195.28, 281195.28, 277457.7 , 278060.66,\n",
       "       281396.34, 268287.1 , 268287.1 , 268287.1 , 268287.1 , 264951.38,\n",
       "       267656.16, 270991.8 , 267018.7 , 267018.7 , 262710.7 , 262710.7 ,\n",
       "       263683.  , 263683.  , 258777.48, 254822.17, 253576.17, 247953.14,\n",
       "       247953.14, 251486.47, 287084.62, 284047.16, 281195.28, 281195.28,\n",
       "       281195.28, 281195.28, 277859.6 , 277859.6 , 281195.28, 280793.38,\n",
       "       281396.34, 281396.34, 268287.1 , 264951.38, 264951.38, 268287.1 ,\n",
       "       268287.1 , 270991.8 , 270991.8 , 262710.7 , 263683.  , 263683.  ,\n",
       "       267018.7 , 267018.7 , 267018.7 , 251908.42, 247953.14, 251486.47,\n",
       "       251486.47, 254822.17, 254822.17, 290420.3 , 284047.16, 281195.28,\n",
       "       277859.6 , 277859.6 , 281195.28, 281195.28, 281195.28, 281195.28,\n",
       "       280793.38, 278060.66, 278060.66, 268287.1 , 268287.1 , 268287.1 ,\n",
       "       268287.1 , 268287.1 , 267656.16, 267656.16, 267018.7 , 267018.7 ,\n",
       "       267018.7 , 262710.7 , 262710.7 , 263683.  , 255441.78, 254822.17,\n",
       "       254822.17, 253576.17, 247953.14, 290420.3 , 280711.44, 277859.6 ,\n",
       "       281195.28, 281195.28, 281195.28, 281195.28, 281195.28, 277859.6 ,\n",
       "       277457.7 , 281396.34, 281396.34, 268287.1 , 268287.1 , 268287.1 ,\n",
       "       264951.38, 264951.38, 270991.8 , 270991.8 , 267018.7 , 262710.7 ,\n",
       "       262710.7 , 263683.  , 263683.  , 267018.7 , 258777.48, 253576.17,\n",
       "       247953.14, 247953.14, 251486.47, 251486.47, 290420.3 , 284047.16,\n",
       "       281195.28, 281195.28, 281195.28, 277859.6 , 277859.6 , 281195.28,\n",
       "       281195.28, 280793.38, 281396.34, 281396.34, 264951.38, 264951.38,\n",
       "       268287.1 , 268287.1 , 268287.1 , 270991.8 , 270991.8 , 263683.  ,\n",
       "       263683.  , 267018.7 , 267018.7 , 267018.7 , 262710.7 , 251908.42,\n",
       "       251486.47, 251486.47, 254822.17, 254822.17, 290420.3 , 284047.16,\n",
       "       281195.28, 277859.6 , 277859.6 , 281195.28, 281195.28, 281195.28,\n",
       "       281195.28, 280793.38, 278060.66, 278060.66, 268287.1 , 268287.1 ,\n",
       "       268287.1 , 268287.1 , 268287.1 , 267656.16, 267656.16, 267018.7 ,\n",
       "       267018.7 , 267018.7 , 262710.7 , 262710.7 , 263683.  , 255441.78,\n",
       "       254822.17, 254822.17, 253576.17, 247953.14, 247953.14, 287084.62,\n",
       "       280711.44, 281195.28, 281195.28, 281195.28, 281195.28, 281195.28,\n",
       "       277859.6 , 277859.6 , 280793.38, 281396.34, 281396.34, 268287.1 ,\n",
       "       268287.1 , 264951.38, 264951.38, 268287.1 , 270991.8 , 270991.8 ,\n",
       "       262710.7 , 262710.7 , 263683.  , 263683.  , 267018.7 , 267018.7 ,\n",
       "       258955.78, 249377.44, 249377.44, 252910.78, 252910.78, 256246.48,\n",
       "       290420.3 , 284047.16, 281195.28, 281195.28, 277859.6 , 277859.6 ,\n",
       "       281195.28, 281195.28, 281195.28, 280793.38, 281396.34, 278060.66,\n",
       "       264951.38, 268287.1 , 268287.1 , 268287.1 , 268287.1 , 270991.8 ,\n",
       "       267656.16, 263683.  , 267018.7 , 267018.7 , 267018.7 , 262710.7 ,\n",
       "       262710.7 , 256866.08, 252910.78, 256246.48, 256246.48, 290420.3 ,\n",
       "       284047.16, 281195.28, 277859.6 , 277859.6 , 281195.28, 281195.28,\n",
       "       281195.28, 281195.28, 280793.38, 278060.66, 278060.66, 268287.1 ,\n",
       "       268287.1 , 268287.1 , 268287.1 , 268287.1 , 267656.16, 267656.16,\n",
       "       267018.7 , 267018.7 , 267018.7 , 262710.7 , 262710.7 , 263683.  ,\n",
       "       257230.67, 256611.08, 256611.08, 255365.08, 249742.03, 249742.03,\n",
       "       287084.62, 280711.44, 281195.28, 281195.28, 281195.28, 281195.28,\n",
       "       281195.28, 277859.6 , 277859.6 , 280793.38, 281396.34, 281396.34,\n",
       "       268287.1 , 268287.1 , 264951.38, 264951.38, 268287.1 , 270991.8 ,\n",
       "       270991.8 , 262710.7 , 262710.7 , 263683.  , 263683.  , 267018.7 ,\n",
       "       267018.7 , 259320.38, 249742.03, 249742.03, 253275.38, 253275.38,\n",
       "       290420.3 , 284047.16, 281195.28, 281195.28, 281195.28, 277859.6 ,\n",
       "       277859.6 , 281195.28, 281195.28, 280793.38, 281396.34, 281396.34,\n",
       "       264951.38, 264951.38, 268287.1 , 268287.1 , 268287.1 , 270991.8 ,\n",
       "       270991.8 , 263683.  , 263683.  , 267018.7 , 267018.7 , 267018.7 ,\n",
       "       262710.7 , 251908.42, 251486.47, 251486.47, 254822.17, 254822.17,\n",
       "       253576.17, 290420.3 , 284047.16, 277859.6 , 277859.6 , 281195.28,\n",
       "       281195.28, 281195.28, 281195.28, 281195.28, 277457.7 , 278060.66,\n",
       "       281396.34, 268287.1 , 268287.1 , 268287.1 , 268287.1 , 264951.38,\n",
       "       267656.16, 270991.8 , 267018.7 , 267018.7 , 262710.7 , 262710.7 ,\n",
       "       263683.  , 263683.  , 258777.48, 254822.17, 253576.17, 247953.14,\n",
       "       247953.14, 287084.62, 280711.44, 281195.28, 281195.28, 281195.28,\n",
       "       281195.28, 281195.28, 277859.6 , 277859.6 , 280793.38, 281396.34,\n",
       "       281396.34, 268287.1 , 268287.1 , 264951.38, 264951.38, 268287.1 ,\n",
       "       270991.8 , 270991.8 , 262710.7 , 262710.7 , 263683.  , 263683.  ,\n",
       "       267018.7 , 267018.7 , 257531.48, 247953.14, 247953.14, 251486.47,\n",
       "       251486.47, 254822.17, 290420.3 , 284047.16, 281195.28, 281195.28,\n",
       "       277859.6 , 277859.6 , 281195.28, 281195.28, 281195.28, 280793.38,\n",
       "       281396.34, 278060.66, 264951.38, 268287.1 , 268287.1 , 268287.1 ,\n",
       "       268287.1 , 270991.8 , 267656.16, 263683.  , 267018.7 , 267018.7 ,\n",
       "       267018.7 , 262710.7 , 262710.7 , 255441.78, 251486.47, 254822.17,\n",
       "       254822.17, 253576.17, 247953.14, 290420.3 , 280711.44, 277859.6 ,\n",
       "       281195.28, 281195.28, 281195.28, 281195.28, 281195.28, 277859.6 ,\n",
       "       277457.7 , 281396.34, 281396.34, 268287.1 , 268287.1 , 268287.1 ,\n",
       "       264951.38, 264951.38, 270991.8 , 270991.8 , 267018.7 , 262710.7 ,\n",
       "       262710.7 , 263683.  , 263683.  , 267018.7 , 258777.48, 253576.17,\n",
       "       247953.14, 247953.14, 251486.47, 287084.62, 284047.16, 281195.28,\n",
       "       281195.28, 281195.28, 281195.28, 277859.6 , 277859.6 , 281195.28,\n",
       "       280793.38, 281396.34, 281396.34, 268287.1 , 264951.38, 264951.38,\n",
       "       268287.1 , 268287.1 , 270991.8 , 270991.8 , 262710.7 , 263683.  ,\n",
       "       263683.  , 267018.7 , 267018.7 , 267018.7 , 251908.42, 247953.14,\n",
       "       251486.47, 251486.47, 254822.17, 254822.17, 290420.3 , 284047.16,\n",
       "       281195.28, 277859.6 , 277859.6 , 281195.28, 281195.28, 281195.28,\n",
       "       281195.28, 280793.38, 278060.66, 278060.66, 268287.1 , 268287.1 ,\n",
       "       268287.1 , 268287.1 , 268287.1 , 267656.16, 267656.16, 267018.7 ,\n",
       "       267018.7 , 267018.7 , 262710.7 , 262710.7 , 263683.  , 255441.78,\n",
       "       254822.17, 254822.17, 253576.17, 247953.14, 290420.3 , 280711.44,\n",
       "       277859.6 , 281195.28, 281195.28, 281195.28, 281195.28, 281195.28,\n",
       "       277859.6 , 277457.7 , 281396.34, 281396.34, 268287.1 , 268287.1 ,\n",
       "       268287.1 , 264951.38, 264951.38, 270991.8 , 270991.8 , 267018.7 ,\n",
       "       262710.7 , 262710.7 , 263683.  , 263683.  , 267018.7 , 258777.48,\n",
       "       253576.17, 247953.14, 247953.14, 251486.47], dtype=float32)"
      ]
     },
     "execution_count": 39,
     "metadata": {},
     "output_type": "execute_result"
    }
   ],
   "source": [
    "predictions = xgb_model.predict(X_all)\n",
    "predictions"
   ]
  },
  {
   "cell_type": "code",
   "execution_count": 40,
   "id": "1bb53c78",
   "metadata": {},
   "outputs": [
    {
     "data": {
      "text/plain": [
       "(730,)"
      ]
     },
     "execution_count": 40,
     "metadata": {},
     "output_type": "execute_result"
    }
   ],
   "source": [
    "predictions.shape"
   ]
  },
  {
   "cell_type": "code",
   "execution_count": 41,
   "id": "f6a6d7c3",
   "metadata": {},
   "outputs": [
    {
     "data": {
      "text/plain": [
       "0     2023-01-01\n",
       "1     2023-01-02\n",
       "2     2023-01-03\n",
       "3     2023-01-04\n",
       "4     2023-01-05\n",
       "         ...    \n",
       "725   2024-12-26\n",
       "726   2024-12-27\n",
       "727   2024-12-28\n",
       "728   2024-12-29\n",
       "729   2024-12-30\n",
       "Length: 730, dtype: datetime64[ns]"
      ]
     },
     "execution_count": 41,
     "metadata": {},
     "output_type": "execute_result"
    }
   ],
   "source": [
    "future"
   ]
  },
  {
   "cell_type": "code",
   "execution_count": 42,
   "id": "d1c28eb6",
   "metadata": {},
   "outputs": [
    {
     "name": "stdout",
     "output_type": "stream",
     "text": [
      "          Date    Predictions\n",
      "0   2023-01-01  290420.312500\n",
      "1   2023-01-02  280711.437500\n",
      "2   2023-01-03  277859.593750\n",
      "3   2023-01-04  281195.281250\n",
      "4   2023-01-05  281195.281250\n",
      "..         ...            ...\n",
      "725 2024-12-26  258777.484375\n",
      "726 2024-12-27  253576.171875\n",
      "727 2024-12-28  247953.140625\n",
      "728 2024-12-29  247953.140625\n",
      "729 2024-12-30  251486.468750\n",
      "\n",
      "[730 rows x 2 columns]\n"
     ]
    }
   ],
   "source": [
    "\n",
    "df_final = pd.DataFrame({'Date': future, 'Predictions': predictions})\n",
    "print(df_final)"
   ]
  },
  {
   "cell_type": "markdown",
   "id": "a8699a0e",
   "metadata": {},
   "source": [
    "## 5.2 XGBoost para \"valor_bruto\""
   ]
  },
  {
   "cell_type": "code",
   "execution_count": 43,
   "id": "a97b3633",
   "metadata": {},
   "outputs": [
    {
     "name": "stdout",
     "output_type": "stream",
     "text": [
      "Best set of hyperparameters:  {'learning_rate': 0.1, 'max_depth': 3, 'subsample': 0.7}\n"
     ]
    }
   ],
   "source": [
    "# XGBoost\n",
    "\n",
    "cv_split = TimeSeriesSplit(n_splits=4, test_size=100)\n",
    "modelo = xgb.XGBRegressor()\n",
    "params = {\n",
    "    'max_depth': [3, 5, 7],\n",
    "    'learning_rate': [0.1, 0.01, 0.001],\n",
    "    'subsample': [0.5, 0.7, 1]\n",
    "}\n",
    "\n",
    "\n",
    "grid_search = GridSearchCV(estimator=modelo, cv=cv_split, param_grid=params)\n",
    "grid_search.fit(X_train, y_train_bruto)\n",
    "melhores_params = grid_search.best_params_\n",
    "\n",
    "print(\"Best set of hyperparameters: \", melhores_params)"
   ]
  },
  {
   "cell_type": "code",
   "execution_count": 44,
   "id": "6ab1445d",
   "metadata": {},
   "outputs": [],
   "source": [
    "y_test_bruto = y_test_bruto.reset_index()['valor_bruto']"
   ]
  },
  {
   "cell_type": "code",
   "execution_count": 45,
   "id": "f4c81df4",
   "metadata": {},
   "outputs": [
    {
     "data": {
      "text/html": [
       "<style>#sk-container-id-2 {color: black;background-color: white;}#sk-container-id-2 pre{padding: 0;}#sk-container-id-2 div.sk-toggleable {background-color: white;}#sk-container-id-2 label.sk-toggleable__label {cursor: pointer;display: block;width: 100%;margin-bottom: 0;padding: 0.3em;box-sizing: border-box;text-align: center;}#sk-container-id-2 label.sk-toggleable__label-arrow:before {content: \"▸\";float: left;margin-right: 0.25em;color: #696969;}#sk-container-id-2 label.sk-toggleable__label-arrow:hover:before {color: black;}#sk-container-id-2 div.sk-estimator:hover label.sk-toggleable__label-arrow:before {color: black;}#sk-container-id-2 div.sk-toggleable__content {max-height: 0;max-width: 0;overflow: hidden;text-align: left;background-color: #f0f8ff;}#sk-container-id-2 div.sk-toggleable__content pre {margin: 0.2em;color: black;border-radius: 0.25em;background-color: #f0f8ff;}#sk-container-id-2 input.sk-toggleable__control:checked~div.sk-toggleable__content {max-height: 200px;max-width: 100%;overflow: auto;}#sk-container-id-2 input.sk-toggleable__control:checked~label.sk-toggleable__label-arrow:before {content: \"▾\";}#sk-container-id-2 div.sk-estimator input.sk-toggleable__control:checked~label.sk-toggleable__label {background-color: #d4ebff;}#sk-container-id-2 div.sk-label input.sk-toggleable__control:checked~label.sk-toggleable__label {background-color: #d4ebff;}#sk-container-id-2 input.sk-hidden--visually {border: 0;clip: rect(1px 1px 1px 1px);clip: rect(1px, 1px, 1px, 1px);height: 1px;margin: -1px;overflow: hidden;padding: 0;position: absolute;width: 1px;}#sk-container-id-2 div.sk-estimator {font-family: monospace;background-color: #f0f8ff;border: 1px dotted black;border-radius: 0.25em;box-sizing: border-box;margin-bottom: 0.5em;}#sk-container-id-2 div.sk-estimator:hover {background-color: #d4ebff;}#sk-container-id-2 div.sk-parallel-item::after {content: \"\";width: 100%;border-bottom: 1px solid gray;flex-grow: 1;}#sk-container-id-2 div.sk-label:hover label.sk-toggleable__label {background-color: #d4ebff;}#sk-container-id-2 div.sk-serial::before {content: \"\";position: absolute;border-left: 1px solid gray;box-sizing: border-box;top: 0;bottom: 0;left: 50%;z-index: 0;}#sk-container-id-2 div.sk-serial {display: flex;flex-direction: column;align-items: center;background-color: white;padding-right: 0.2em;padding-left: 0.2em;position: relative;}#sk-container-id-2 div.sk-item {position: relative;z-index: 1;}#sk-container-id-2 div.sk-parallel {display: flex;align-items: stretch;justify-content: center;background-color: white;position: relative;}#sk-container-id-2 div.sk-item::before, #sk-container-id-2 div.sk-parallel-item::before {content: \"\";position: absolute;border-left: 1px solid gray;box-sizing: border-box;top: 0;bottom: 0;left: 50%;z-index: -1;}#sk-container-id-2 div.sk-parallel-item {display: flex;flex-direction: column;z-index: 1;position: relative;background-color: white;}#sk-container-id-2 div.sk-parallel-item:first-child::after {align-self: flex-end;width: 50%;}#sk-container-id-2 div.sk-parallel-item:last-child::after {align-self: flex-start;width: 50%;}#sk-container-id-2 div.sk-parallel-item:only-child::after {width: 0;}#sk-container-id-2 div.sk-dashed-wrapped {border: 1px dashed gray;margin: 0 0.4em 0.5em 0.4em;box-sizing: border-box;padding-bottom: 0.4em;background-color: white;}#sk-container-id-2 div.sk-label label {font-family: monospace;font-weight: bold;display: inline-block;line-height: 1.2em;}#sk-container-id-2 div.sk-label-container {text-align: center;}#sk-container-id-2 div.sk-container {/* jupyter's `normalize.less` sets `[hidden] { display: none; }` but bootstrap.min.css set `[hidden] { display: none !important; }` so we also need the `!important` here to be able to override the default hidden behavior on the sphinx rendered scikit-learn.org. See: https://github.com/scikit-learn/scikit-learn/issues/21755 */display: inline-block !important;position: relative;}#sk-container-id-2 div.sk-text-repr-fallback {display: none;}</style><div id=\"sk-container-id-2\" class=\"sk-top-container\"><div class=\"sk-text-repr-fallback\"><pre>XGBRegressor(base_score=None, booster=None, callbacks=None,\n",
       "             colsample_bylevel=None, colsample_bynode=None,\n",
       "             colsample_bytree=None, device=None, early_stopping_rounds=None,\n",
       "             enable_categorical=False, eval_metric=None, feature_types=None,\n",
       "             gamma=None, grow_policy=None, importance_type=None,\n",
       "             interaction_constraints=None, learning_rate=0.1, max_bin=None,\n",
       "             max_cat_threshold=None, max_cat_to_onehot=None,\n",
       "             max_delta_step=None, max_depth=3, max_leaves=None,\n",
       "             min_child_weight=None, missing=nan, monotone_constraints=None,\n",
       "             multi_strategy=None, n_estimators=None, n_jobs=None,\n",
       "             num_parallel_tree=None, random_state=None, ...)</pre><b>In a Jupyter environment, please rerun this cell to show the HTML representation or trust the notebook. <br />On GitHub, the HTML representation is unable to render, please try loading this page with nbviewer.org.</b></div><div class=\"sk-container\" hidden><div class=\"sk-item\"><div class=\"sk-estimator sk-toggleable\"><input class=\"sk-toggleable__control sk-hidden--visually\" id=\"sk-estimator-id-2\" type=\"checkbox\" checked><label for=\"sk-estimator-id-2\" class=\"sk-toggleable__label sk-toggleable__label-arrow\">XGBRegressor</label><div class=\"sk-toggleable__content\"><pre>XGBRegressor(base_score=None, booster=None, callbacks=None,\n",
       "             colsample_bylevel=None, colsample_bynode=None,\n",
       "             colsample_bytree=None, device=None, early_stopping_rounds=None,\n",
       "             enable_categorical=False, eval_metric=None, feature_types=None,\n",
       "             gamma=None, grow_policy=None, importance_type=None,\n",
       "             interaction_constraints=None, learning_rate=0.1, max_bin=None,\n",
       "             max_cat_threshold=None, max_cat_to_onehot=None,\n",
       "             max_delta_step=None, max_depth=3, max_leaves=None,\n",
       "             min_child_weight=None, missing=nan, monotone_constraints=None,\n",
       "             multi_strategy=None, n_estimators=None, n_jobs=None,\n",
       "             num_parallel_tree=None, random_state=None, ...)</pre></div></div></div></div></div>"
      ],
      "text/plain": [
       "XGBRegressor(base_score=None, booster=None, callbacks=None,\n",
       "             colsample_bylevel=None, colsample_bynode=None,\n",
       "             colsample_bytree=None, device=None, early_stopping_rounds=None,\n",
       "             enable_categorical=False, eval_metric=None, feature_types=None,\n",
       "             gamma=None, grow_policy=None, importance_type=None,\n",
       "             interaction_constraints=None, learning_rate=0.1, max_bin=None,\n",
       "             max_cat_threshold=None, max_cat_to_onehot=None,\n",
       "             max_delta_step=None, max_depth=3, max_leaves=None,\n",
       "             min_child_weight=None, missing=nan, monotone_constraints=None,\n",
       "             multi_strategy=None, n_estimators=None, n_jobs=None,\n",
       "             num_parallel_tree=None, random_state=None, ...)"
      ]
     },
     "execution_count": 45,
     "metadata": {},
     "output_type": "execute_result"
    }
   ],
   "source": [
    "xgb_model = xgb.XGBRegressor(**melhores_params)\n",
    "\n",
    "xgb_model.fit(X_train, y_train_bruto)"
   ]
  },
  {
   "cell_type": "code",
   "execution_count": 46,
   "id": "14b031cd",
   "metadata": {},
   "outputs": [
    {
     "data": {
      "text/plain": [
       "262303.16172507295"
      ]
     },
     "execution_count": 46,
     "metadata": {},
     "output_type": "execute_result"
    }
   ],
   "source": [
    "predictions = xgb_model.predict(X_test)\n",
    "\n",
    "mae = mean_absolute_error(y_test_bruto, predictions)\n",
    "\n",
    "rmse = np.sqrt(mean_squared_error(y_test_bruto, predictions))\n",
    "\n",
    "mae"
   ]
  },
  {
   "cell_type": "code",
   "execution_count": 47,
   "id": "e23b17fa",
   "metadata": {},
   "outputs": [
    {
     "data": {
      "text/plain": [
       "array([ 891785.94,  745636.  ,  842035.3 , 1012998.75,  889628.6 ,\n",
       "        794760.4 ,  821505.  ,  661643.06,  685063.2 ,  639050.7 ,\n",
       "        817673.5 ,  781269.5 ,  763267.  ,  830384.4 ,  737585.25,\n",
       "        532088.56,  533960.56,  695916.56,  670583.56,  725114.8 ,\n",
       "        751305.44,  666450.3 ,  715636.94,  671188.8 ,  788910.8 ,\n",
       "        738061.3 ,  676105.94,  668663.94,  497958.3 ,  662333.44,\n",
       "        577286.  , 1133255.5 ,  905293.3 ,  846947.9 ,  870137.6 ,\n",
       "        721434.06,  712086.7 ,  782561.9 ,  915432.3 ,  814049.6 ,\n",
       "        772249.7 ,  842146.3 ,  739189.56,  600778.8 ,  640465.3 ,\n",
       "        832771.6 ,  760930.75,  714864.7 ,  756500.9 ,  666137.  ,\n",
       "        644614.3 ,  627374.2 ,  805306.25,  852145.94,  852316.9 ,\n",
       "        855555.8 ,  659278.1 ,  627801.4 ,  567228.56, 1160852.4 ,\n",
       "        931083.4 ,  883959.4 ,  906805.7 ,  789750.6 ,  771525.6 ,\n",
       "        823240.7 ,  940546.06,  844594.44,  808584.9 ,  878138.06,\n",
       "        806829.8 ,  664972.44,  693317.06,  857885.4 ,  805876.75,\n",
       "        797271.6 ,  855027.3 ,  848828.2 ,  823859.  ,  795276.9 ,\n",
       "        945470.94, 1017746.4 , 1029868.06, 1029201.5 ,  864572.3 ,\n",
       "        841273.44,  785085.1 ,  958141.9 ,  939906.  ,  868790.94,\n",
       "       1085941.  ,  824674.25,  780956.25,  921258.  , 1042123.94,\n",
       "        884713.2 ,  831755.3 ,  867791.3 ,  759653.94,  692174.7 ,\n",
       "        716045.1 ,  853040.4 ,  826477.4 ,  841578.4 ,  893774.3 ,\n",
       "        807245.94,  655679.8 ,  702685.25,  896184.6 ,  901460.4 ,\n",
       "        899376.3 ,  966668.06,  940246.3 ,  955204.56,  867676.44,\n",
       "        971100.5 ,  882804.3 ,  895166.5 ,  891906.4 ,  770310.8 ,\n",
       "        948693.06,  918485.94,  988108.8 ,  887260.1 ,  888242.56,\n",
       "        896194.2 ,  762700.56,  785208.44,  794934.44,  847853.06,\n",
       "        812980.2 ,  830596.25,  887899.3 ,  826592.25,  679582.75,\n",
       "        702320.  ,  825455.44,  809605.75,  884383.44,  964544.6 ,\n",
       "        848953.56,  856268.8 ,  920805.3 , 1031896.  ,  980204.1 ,\n",
       "        960018.2 ,  886691.7 ,  753147.2 ,  899079.3 ,  867824.75,\n",
       "        917186.  , 1058355.9 ,  909577.7 ,  919901.1 ,  772718.3 ,\n",
       "        819512.5 ,  875752.2 ,  944674.8 ,  841702.94,  816838.1 ,\n",
       "        860277.25,  803023.6 ,  665640.25,  703921.75,  863825.75,\n",
       "        842778.94,  831814.8 ,  856269.4 ,  800565.25,  783809.44,\n",
       "        811494.8 ,  913156.2 ,  916150.06, 1018767.  , 1042179.9 ,\n",
       "        877414.5 ,  860153.  ,  778130.3 ,  930402.06,  922150.06,\n",
       "        953503.3 , 1074422.6 ,  829814.4 ,  786806.25,  925110.9 ,\n",
       "       1045976.8 ,  888707.44,  831627.2 ,  871785.56,  764933.75,\n",
       "        695239.7 ,  717113.  ,  858779.75,  835143.1 ,  851296.2 ,\n",
       "        910666.1 ,  824133.1 ,  662826.06,  717320.8 ,  910820.2 ,\n",
       "        913637.4 ,  892454.75,  969895.9 ,  936326.5 ,  914706.56,\n",
       "        859544.7 ,  965740.44,  880370.6 ,  897868.56,  898730.8 ,\n",
       "        786502.5 ,  842208.4 , 1068385.4 , 1016378.44,  910694.06,\n",
       "        874528.06,  930033.25,  777438.5 ,  775687.94,  815459.56,\n",
       "        935458.56,  803399.1 ,  821382.75,  886992.25,  821033.1 ,\n",
       "        669190.1 ,  720525.44,  843051.06,  803543.  ,  830199.3 ,\n",
       "        940036.7 ,  906184.4 ,  792453.94,  821098.56, 1037802.94,\n",
       "       1010970.3 ,  987716.8 ,  981899.25,  757373.9 ,  825119.5 ,\n",
       "        846898.9 ,  994147.  ,  878957.  , 1042791.06,  961053.44,\n",
       "        808506.5 ,  814264.5 ,  932642.3 ,  996526.8 ,  865219.25,\n",
       "        827789.06,  877894.06,  805796.8 ,  682250.06,  701466.44,\n",
       "        868178.44,  843045.1 ,  863923.25,  895617.1 ,  801844.8 ,\n",
       "        719724.94,  775311.7 ,  949093.06,  892988.6 ,  933909.44,\n",
       "       1045356.94,  934468.1 ,  855666.7 ,  820469.06,  909930.2 ,\n",
       "        899606.3 ,  929365.7 ,  926585.4 ,  945965.7 ,  806305.8 ,\n",
       "        882128.06, 1024732.5 ,  915343.7 ,  863368.8 ,  879471.94,\n",
       "        762673.5 ,  766403.5 ,  707052.  ,  854175.  ,  830992.75,\n",
       "        837683.6 ,  898899.  ,  845177.44,  685790.1 ,  694122.  ,\n",
       "        851196.9 ,  888930.4 ,  929674.5 ,  936293.94,  895483.8 ,\n",
       "        922098.56,  910043.3 ,  997740.8 ,  953389.7 ,  881260.6 ,\n",
       "        881362.5 ,  749629.2 ,  875813.56,  791516.9 , 1151640.  ,\n",
       "        963384.56,  929354.2 ,  948400.56,  830695.9 ,  785973.2 ,\n",
       "        836369.1 ,  956688.44,  883148.  ,  841463.4 ,  911706.2 ,\n",
       "        844419.8 ,  675407.9 ,  711467.56,  888656.44,  883428.75,\n",
       "        851715.94,  913908.  ,  902421.3 ,  805533.5 ,  775632.  ,\n",
       "        943414.  , 1023430.44, 1033697.25, 1016379.3 ,  853872.2 ,\n",
       "        742390.56,  748220.75,  916214.5 ,  919863.  , 1081668.1 ,\n",
       "        994157.1 ,  861468.56,  783982.25,  928688.06, 1020295.2 ,\n",
       "        937658.7 ,  899486.5 ,  943818.  ,  854900.5 ,  658854.4 ,\n",
       "        704398.75,  879244.2 ,  912872.2 ,  950153.6 , 1005535.9 ,\n",
       "        888333.44,  742420.25,  817697.06,  964637.5 ,  940955.1 ,\n",
       "        993193.3 , 1104667.8 ,  991390.2 ,  810037.25,  812557.  ,\n",
       "        869719.8 ,  897655.2 ,  933218.44,  928097.4 ,  737182.25,\n",
       "        874151.2 ,  868274.94,  981069.4 ,  871863.25,  848440.  ,\n",
       "        833210.8 ,  683762.6 ,  700200.  ,  721267.94,  813260.9 ,\n",
       "        775461.6 ,  764000.5 ,  814618.2 ,  734118.3 ,  590094.  ,\n",
       "        573356.44,  697876.9 ,  662637.9 ,  668952.2 ,  767065.  ,\n",
       "        645607.3 ,  634379.44,  687334.06,  820512.1 ,  771329.  ,\n",
       "        741996.75,  677387.6 ,  507130.53,  651796.5 ,  585464.1 ,\n",
       "        724200.06, 1053868.4 ,  877288.94,  885398.3 ,  712073.  ,\n",
       "        758678.5 ,  828257.25,  937551.9 ,  814049.6 ,  782085.75,\n",
       "        827177.  ,  743780.9 ,  604981.  ,  642046.6 ,  827655.1 ,\n",
       "        800630.3 ,  764025.06,  758461.2 ,  658191.3 ,  594134.5 ,\n",
       "        637597.94,  785114.44,  772027.56,  855240.25,  879280.06,\n",
       "        692545.8 ,  682606.56,  579559.56,  734799.3 ,  739720.2 ,\n",
       "       1062875.4 ,  952407.44,  795650.25,  809713.1 ,  930088.06,\n",
       "        989183.06,  854541.06,  823852.  ,  869834.6 ,  796451.8 ,\n",
       "        690084.6 ,  699100.56,  854350.2 ,  820627.56,  840059.8 ,\n",
       "        868921.5 ,  773863.6 ,  708923.4 ,  755020.8 ,  941678.94,\n",
       "        892000.44,  926508.  , 1055443.1 ,  943268.75,  906830.25,\n",
       "        836494.75,  921522.3 ,  887311.7 ,  923812.2 ,  928747.44,\n",
       "        708810.2 ,  953013.44,  922806.3 ,  992429.2 ,  888654.1 ,\n",
       "        889636.56,  897588.2 ,  769600.56,  789528.8 ,  799254.8 ,\n",
       "        852173.44,  814374.2 ,  827318.75,  884621.8 ,  823646.3 ,\n",
       "        674057.2 ,  698084.6 ,  821220.06,  802444.  ,  877221.7 ,\n",
       "        957382.9 ,  857156.3 ,  855864.94,  925490.3 , 1036581.06,\n",
       "        981962.8 ,  961776.9 ,  888450.4 ,  751153.75,  900574.3 ,\n",
       "        860325.3 , 1145979.9 ,  932861.9 ,  885737.9 ,  904094.6 ,\n",
       "        781533.56,  770377.75,  820017.94,  934182.4 ,  841157.1 ,\n",
       "        805147.56,  874700.75,  802558.  ,  673450.  ,  706969.06,\n",
       "        868396.44,  818024.  ,  809418.9 ,  867174.56,  855469.44,\n",
       "        824295.44,  785854.8 ,  946062.3 , 1011372.3 , 1023494.  ,\n",
       "       1013841.94,  843706.75,  834502.4 ,  790498.56,  960414.4 ,\n",
       "        947267.56,  876152.5 , 1075190.8 ,  815395.4 ,  779178.8 ,\n",
       "        917483.44, 1038349.4 ,  883865.  ,  826784.75,  866943.1 ,\n",
       "        753299.75,  690397.25,  712270.56,  853937.3 ,  830300.7 ,\n",
       "        846453.75,  905823.7 ,  812499.1 ,  657983.6 ,  712478.4 ,\n",
       "        905977.75,  914179.9 ,  892997.25,  970438.4 ,  933421.7 ,\n",
       "        918593.3 ,  863431.44,  969627.2 ,  884257.4 ,  901755.3 ,\n",
       "        902617.56,  783597.7 ,  950467.9 ,  923734.5 ,  996282.06,\n",
       "        895433.4 ,  892293.44,  901582.44,  774880.4 ,  792593.8 ,\n",
       "        800322.7 ,  853241.3 ,  818368.44,  831862.1 ,  893287.56,\n",
       "        838772.06,  682493.6 ,  710759.9 ,  833895.3 ,  820005.94,\n",
       "        890661.25,  969559.9 ,  855642.7 ,  823800.2 ,  917358.56,\n",
       "       1028449.3 ,  976757.44,  955220.8 ,  886016.7 ,  759263.75,\n",
       "        866038.  ,  867149.75,  926077.75, 1057587.8 ,  917205.1 ,\n",
       "        927528.56,  787137.3 ,  827139.94,  880594.6 ,  949517.25,\n",
       "        846545.4 ,  821680.56,  865119.7 ,  814657.6 ,  670482.7 ,\n",
       "        708764.2 ,  863532.8 ,  847621.4 ,  836657.25,  861111.8 ,\n",
       "        812199.25,  790651.9 ,  812952.3 ,  914613.7 ,  917607.56,\n",
       "       1016880.25, 1040293.1 ,  882319.3 ,  858266.25,  776243.56,\n",
       "        934593.7 ,  926341.7 ,  955694.94,  852871.44,  964329.7 ,\n",
       "        812888.1 ,  888710.4 , 1031314.8 ,  921926.  ,  869951.1 ,\n",
       "        887840.7 ,  771042.25,  772985.8 ,  713634.3 ,  860757.3 ,\n",
       "        837575.06,  844265.94,  905120.7 ,  851399.1 ,  668256.94,\n",
       "        696386.75,  853461.6 ,  891195.1 ,  931939.25,  938558.7 ,\n",
       "        897748.56,  919589.06,  907533.8 ,  995231.3 ,  950880.2 ,\n",
       "        891330.  ,  891431.9 ,  759698.56,  885882.94, 1057332.  ,\n",
       "       1012899.5 ,  912839.  ,  874054.25,  927773.  ,  775178.25,\n",
       "        764634.5 ,  804406.1 ,  931979.6 ,  805544.06,  820908.94,\n",
       "        884732.  ,  818772.9 ,  660283.75,  711619.06,  863687.6 ,\n",
       "        810005.5 ,  834043.06,  943880.44,  910028.1 ,  785718.06,\n",
       "        814362.7 , 1043415.8 , 1022207.06,  990226.3 ,  984408.75,\n",
       "        747304.5 ,  804470.5 ,  822266.8 ,  977089.44,  872570.5 ,\n",
       "       1066252.5 ,  981082.4 ,  836595.5 ,  826945.7 ,  945323.5 ,\n",
       "       1009208.  ,  894514.25,  862579.25,  909251.5 ,  829370.3 ,\n",
       "        688819.75,  708036.1 ,  874748.1 ,  861820.9 ,  889613.8 ,\n",
       "        947336.8 ,  830134.4 ,  734622.2 ,  783571.  ,  941443.8 ,\n",
       "        895398.4 ,  951719.3 , 1065534.6 ,  942196.75,  824692.25,\n",
       "        800884.  ,  870828.6 ,  873676.2 ,  913322.2 ,  910541.9 ,\n",
       "        995498.2 ,  774406.7 ,  888355.25, 1030894.4 ,  976165.56,\n",
       "        942469.75,  957338.7 ,  835031.  ,  758626.44,  716566.6 ,\n",
       "        867223.44,  891555.4 ,  905677.94,  972006.3 ,  929920.8 ,\n",
       "        714233.6 ,  745410.06,  910618.4 ,  974136.  ,  991223.1 ,\n",
       "        995501.8 ,  962816.7 ,  903039.94,  908688.8 ,  995452.7 ,\n",
       "        981633.6 ,  900696.25,  898457.4 ,  771270.75,  794308.4 ],\n",
       "      dtype=float32)"
      ]
     },
     "execution_count": 47,
     "metadata": {},
     "output_type": "execute_result"
    }
   ],
   "source": [
    "predictions_bruto = xgb_model.predict(X_all)\n",
    "predictions_bruto"
   ]
  },
  {
   "cell_type": "code",
   "execution_count": 48,
   "id": "f5aba37f",
   "metadata": {},
   "outputs": [
    {
     "name": "stdout",
     "output_type": "stream",
     "text": [
      "          Date   Predictions\n",
      "0   2023-01-01  8.917859e+05\n",
      "1   2023-01-02  7.456360e+05\n",
      "2   2023-01-03  8.420353e+05\n",
      "3   2023-01-04  1.012999e+06\n",
      "4   2023-01-05  8.896286e+05\n",
      "..         ...           ...\n",
      "725 2024-12-26  9.816336e+05\n",
      "726 2024-12-27  9.006962e+05\n",
      "727 2024-12-28  8.984574e+05\n",
      "728 2024-12-29  7.712708e+05\n",
      "729 2024-12-30  7.943084e+05\n",
      "\n",
      "[730 rows x 2 columns]\n"
     ]
    }
   ],
   "source": [
    "df_final_bruto = pd.DataFrame({'Date': future, 'Predictions': predictions_bruto})\n",
    "print(df_final_bruto)"
   ]
  },
  {
   "cell_type": "markdown",
   "id": "31e7b840",
   "metadata": {},
   "source": [
    "## 5.3 XGBoost para \"qtd\""
   ]
  },
  {
   "cell_type": "code",
   "execution_count": 49,
   "id": "f03dfa71",
   "metadata": {},
   "outputs": [
    {
     "name": "stdout",
     "output_type": "stream",
     "text": [
      "Best set of hyperparameters:  {'learning_rate': 0.01, 'max_depth': 3, 'subsample': 1}\n"
     ]
    }
   ],
   "source": [
    "# XGBoost\n",
    "\n",
    "cv_split = TimeSeriesSplit(n_splits=4, test_size=100)\n",
    "modelo = xgb.XGBRegressor()\n",
    "params = {\n",
    "    'max_depth': [3, 5, 7],\n",
    "    'learning_rate': [0.1, 0.01, 0.001],\n",
    "    'subsample': [0.5, 0.7, 1]\n",
    "}\n",
    "\n",
    "\n",
    "grid_search = GridSearchCV(estimator=modelo, cv=cv_split, param_grid=params)\n",
    "grid_search.fit(X_train, y_train_qtd)\n",
    "melhores_params = grid_search.best_params_\n",
    "\n",
    "print(\"Best set of hyperparameters: \", melhores_params)"
   ]
  },
  {
   "cell_type": "code",
   "execution_count": 50,
   "id": "8f401a6d",
   "metadata": {},
   "outputs": [
    {
     "data": {
      "text/plain": [
       "0        6\n",
       "1       10\n",
       "2       12\n",
       "3        7\n",
       "4        6\n",
       "        ..\n",
       "1178     6\n",
       "1179    16\n",
       "1180    13\n",
       "1181    13\n",
       "1182     8\n",
       "Name: qtd_op, Length: 1183, dtype: int64"
      ]
     },
     "execution_count": 50,
     "metadata": {},
     "output_type": "execute_result"
    }
   ],
   "source": [
    "y_train_qtd"
   ]
  },
  {
   "cell_type": "code",
   "execution_count": 51,
   "id": "28fba059",
   "metadata": {},
   "outputs": [
    {
     "data": {
      "text/html": [
       "<style>#sk-container-id-3 {color: black;background-color: white;}#sk-container-id-3 pre{padding: 0;}#sk-container-id-3 div.sk-toggleable {background-color: white;}#sk-container-id-3 label.sk-toggleable__label {cursor: pointer;display: block;width: 100%;margin-bottom: 0;padding: 0.3em;box-sizing: border-box;text-align: center;}#sk-container-id-3 label.sk-toggleable__label-arrow:before {content: \"▸\";float: left;margin-right: 0.25em;color: #696969;}#sk-container-id-3 label.sk-toggleable__label-arrow:hover:before {color: black;}#sk-container-id-3 div.sk-estimator:hover label.sk-toggleable__label-arrow:before {color: black;}#sk-container-id-3 div.sk-toggleable__content {max-height: 0;max-width: 0;overflow: hidden;text-align: left;background-color: #f0f8ff;}#sk-container-id-3 div.sk-toggleable__content pre {margin: 0.2em;color: black;border-radius: 0.25em;background-color: #f0f8ff;}#sk-container-id-3 input.sk-toggleable__control:checked~div.sk-toggleable__content {max-height: 200px;max-width: 100%;overflow: auto;}#sk-container-id-3 input.sk-toggleable__control:checked~label.sk-toggleable__label-arrow:before {content: \"▾\";}#sk-container-id-3 div.sk-estimator input.sk-toggleable__control:checked~label.sk-toggleable__label {background-color: #d4ebff;}#sk-container-id-3 div.sk-label input.sk-toggleable__control:checked~label.sk-toggleable__label {background-color: #d4ebff;}#sk-container-id-3 input.sk-hidden--visually {border: 0;clip: rect(1px 1px 1px 1px);clip: rect(1px, 1px, 1px, 1px);height: 1px;margin: -1px;overflow: hidden;padding: 0;position: absolute;width: 1px;}#sk-container-id-3 div.sk-estimator {font-family: monospace;background-color: #f0f8ff;border: 1px dotted black;border-radius: 0.25em;box-sizing: border-box;margin-bottom: 0.5em;}#sk-container-id-3 div.sk-estimator:hover {background-color: #d4ebff;}#sk-container-id-3 div.sk-parallel-item::after {content: \"\";width: 100%;border-bottom: 1px solid gray;flex-grow: 1;}#sk-container-id-3 div.sk-label:hover label.sk-toggleable__label {background-color: #d4ebff;}#sk-container-id-3 div.sk-serial::before {content: \"\";position: absolute;border-left: 1px solid gray;box-sizing: border-box;top: 0;bottom: 0;left: 50%;z-index: 0;}#sk-container-id-3 div.sk-serial {display: flex;flex-direction: column;align-items: center;background-color: white;padding-right: 0.2em;padding-left: 0.2em;position: relative;}#sk-container-id-3 div.sk-item {position: relative;z-index: 1;}#sk-container-id-3 div.sk-parallel {display: flex;align-items: stretch;justify-content: center;background-color: white;position: relative;}#sk-container-id-3 div.sk-item::before, #sk-container-id-3 div.sk-parallel-item::before {content: \"\";position: absolute;border-left: 1px solid gray;box-sizing: border-box;top: 0;bottom: 0;left: 50%;z-index: -1;}#sk-container-id-3 div.sk-parallel-item {display: flex;flex-direction: column;z-index: 1;position: relative;background-color: white;}#sk-container-id-3 div.sk-parallel-item:first-child::after {align-self: flex-end;width: 50%;}#sk-container-id-3 div.sk-parallel-item:last-child::after {align-self: flex-start;width: 50%;}#sk-container-id-3 div.sk-parallel-item:only-child::after {width: 0;}#sk-container-id-3 div.sk-dashed-wrapped {border: 1px dashed gray;margin: 0 0.4em 0.5em 0.4em;box-sizing: border-box;padding-bottom: 0.4em;background-color: white;}#sk-container-id-3 div.sk-label label {font-family: monospace;font-weight: bold;display: inline-block;line-height: 1.2em;}#sk-container-id-3 div.sk-label-container {text-align: center;}#sk-container-id-3 div.sk-container {/* jupyter's `normalize.less` sets `[hidden] { display: none; }` but bootstrap.min.css set `[hidden] { display: none !important; }` so we also need the `!important` here to be able to override the default hidden behavior on the sphinx rendered scikit-learn.org. See: https://github.com/scikit-learn/scikit-learn/issues/21755 */display: inline-block !important;position: relative;}#sk-container-id-3 div.sk-text-repr-fallback {display: none;}</style><div id=\"sk-container-id-3\" class=\"sk-top-container\"><div class=\"sk-text-repr-fallback\"><pre>XGBRegressor(base_score=None, booster=None, callbacks=None,\n",
       "             colsample_bylevel=None, colsample_bynode=None,\n",
       "             colsample_bytree=None, device=None, early_stopping_rounds=None,\n",
       "             enable_categorical=False, eval_metric=None, feature_types=None,\n",
       "             gamma=None, grow_policy=None, importance_type=None,\n",
       "             interaction_constraints=None, learning_rate=0.01, max_bin=None,\n",
       "             max_cat_threshold=None, max_cat_to_onehot=None,\n",
       "             max_delta_step=None, max_depth=3, max_leaves=None,\n",
       "             min_child_weight=None, missing=nan, monotone_constraints=None,\n",
       "             multi_strategy=None, n_estimators=None, n_jobs=None,\n",
       "             num_parallel_tree=None, random_state=None, ...)</pre><b>In a Jupyter environment, please rerun this cell to show the HTML representation or trust the notebook. <br />On GitHub, the HTML representation is unable to render, please try loading this page with nbviewer.org.</b></div><div class=\"sk-container\" hidden><div class=\"sk-item\"><div class=\"sk-estimator sk-toggleable\"><input class=\"sk-toggleable__control sk-hidden--visually\" id=\"sk-estimator-id-3\" type=\"checkbox\" checked><label for=\"sk-estimator-id-3\" class=\"sk-toggleable__label sk-toggleable__label-arrow\">XGBRegressor</label><div class=\"sk-toggleable__content\"><pre>XGBRegressor(base_score=None, booster=None, callbacks=None,\n",
       "             colsample_bylevel=None, colsample_bynode=None,\n",
       "             colsample_bytree=None, device=None, early_stopping_rounds=None,\n",
       "             enable_categorical=False, eval_metric=None, feature_types=None,\n",
       "             gamma=None, grow_policy=None, importance_type=None,\n",
       "             interaction_constraints=None, learning_rate=0.01, max_bin=None,\n",
       "             max_cat_threshold=None, max_cat_to_onehot=None,\n",
       "             max_delta_step=None, max_depth=3, max_leaves=None,\n",
       "             min_child_weight=None, missing=nan, monotone_constraints=None,\n",
       "             multi_strategy=None, n_estimators=None, n_jobs=None,\n",
       "             num_parallel_tree=None, random_state=None, ...)</pre></div></div></div></div></div>"
      ],
      "text/plain": [
       "XGBRegressor(base_score=None, booster=None, callbacks=None,\n",
       "             colsample_bylevel=None, colsample_bynode=None,\n",
       "             colsample_bytree=None, device=None, early_stopping_rounds=None,\n",
       "             enable_categorical=False, eval_metric=None, feature_types=None,\n",
       "             gamma=None, grow_policy=None, importance_type=None,\n",
       "             interaction_constraints=None, learning_rate=0.01, max_bin=None,\n",
       "             max_cat_threshold=None, max_cat_to_onehot=None,\n",
       "             max_delta_step=None, max_depth=3, max_leaves=None,\n",
       "             min_child_weight=None, missing=nan, monotone_constraints=None,\n",
       "             multi_strategy=None, n_estimators=None, n_jobs=None,\n",
       "             num_parallel_tree=None, random_state=None, ...)"
      ]
     },
     "execution_count": 51,
     "metadata": {},
     "output_type": "execute_result"
    }
   ],
   "source": [
    "xgb_model = xgb.XGBRegressor(**melhores_params)\n",
    "\n",
    "xgb_model.fit(X_train, y_train_qtd)"
   ]
  },
  {
   "cell_type": "code",
   "execution_count": 52,
   "id": "bfbe2a55",
   "metadata": {},
   "outputs": [
    {
     "data": {
      "text/html": [
       "<div>\n",
       "<style scoped>\n",
       "    .dataframe tbody tr th:only-of-type {\n",
       "        vertical-align: middle;\n",
       "    }\n",
       "\n",
       "    .dataframe tbody tr th {\n",
       "        vertical-align: top;\n",
       "    }\n",
       "\n",
       "    .dataframe thead th {\n",
       "        text-align: right;\n",
       "    }\n",
       "</style>\n",
       "<table border=\"1\" class=\"dataframe\">\n",
       "  <thead>\n",
       "    <tr style=\"text-align: right;\">\n",
       "      <th></th>\n",
       "      <th>dia</th>\n",
       "      <th>mes</th>\n",
       "      <th>ano</th>\n",
       "      <th>dia_da_semana</th>\n",
       "    </tr>\n",
       "  </thead>\n",
       "  <tbody>\n",
       "    <tr>\n",
       "      <th>1183</th>\n",
       "      <td>1</td>\n",
       "      <td>4</td>\n",
       "      <td>2022</td>\n",
       "      <td>4</td>\n",
       "    </tr>\n",
       "    <tr>\n",
       "      <th>1184</th>\n",
       "      <td>2</td>\n",
       "      <td>4</td>\n",
       "      <td>2022</td>\n",
       "      <td>5</td>\n",
       "    </tr>\n",
       "    <tr>\n",
       "      <th>1185</th>\n",
       "      <td>3</td>\n",
       "      <td>4</td>\n",
       "      <td>2022</td>\n",
       "      <td>6</td>\n",
       "    </tr>\n",
       "    <tr>\n",
       "      <th>1186</th>\n",
       "      <td>4</td>\n",
       "      <td>4</td>\n",
       "      <td>2022</td>\n",
       "      <td>0</td>\n",
       "    </tr>\n",
       "    <tr>\n",
       "      <th>1187</th>\n",
       "      <td>5</td>\n",
       "      <td>4</td>\n",
       "      <td>2022</td>\n",
       "      <td>1</td>\n",
       "    </tr>\n",
       "    <tr>\n",
       "      <th>...</th>\n",
       "      <td>...</td>\n",
       "      <td>...</td>\n",
       "      <td>...</td>\n",
       "      <td>...</td>\n",
       "    </tr>\n",
       "    <tr>\n",
       "      <th>1452</th>\n",
       "      <td>26</td>\n",
       "      <td>12</td>\n",
       "      <td>2022</td>\n",
       "      <td>0</td>\n",
       "    </tr>\n",
       "    <tr>\n",
       "      <th>1453</th>\n",
       "      <td>27</td>\n",
       "      <td>12</td>\n",
       "      <td>2022</td>\n",
       "      <td>1</td>\n",
       "    </tr>\n",
       "    <tr>\n",
       "      <th>1454</th>\n",
       "      <td>28</td>\n",
       "      <td>12</td>\n",
       "      <td>2022</td>\n",
       "      <td>2</td>\n",
       "    </tr>\n",
       "    <tr>\n",
       "      <th>1455</th>\n",
       "      <td>29</td>\n",
       "      <td>12</td>\n",
       "      <td>2022</td>\n",
       "      <td>3</td>\n",
       "    </tr>\n",
       "    <tr>\n",
       "      <th>1456</th>\n",
       "      <td>30</td>\n",
       "      <td>12</td>\n",
       "      <td>2022</td>\n",
       "      <td>4</td>\n",
       "    </tr>\n",
       "  </tbody>\n",
       "</table>\n",
       "<p>274 rows × 4 columns</p>\n",
       "</div>"
      ],
      "text/plain": [
       "      dia  mes   ano  dia_da_semana\n",
       "1183    1    4  2022              4\n",
       "1184    2    4  2022              5\n",
       "1185    3    4  2022              6\n",
       "1186    4    4  2022              0\n",
       "1187    5    4  2022              1\n",
       "...   ...  ...   ...            ...\n",
       "1452   26   12  2022              0\n",
       "1453   27   12  2022              1\n",
       "1454   28   12  2022              2\n",
       "1455   29   12  2022              3\n",
       "1456   30   12  2022              4\n",
       "\n",
       "[274 rows x 4 columns]"
      ]
     },
     "execution_count": 52,
     "metadata": {},
     "output_type": "execute_result"
    }
   ],
   "source": [
    "X_test"
   ]
  },
  {
   "cell_type": "code",
   "execution_count": 53,
   "id": "4d46f6c8",
   "metadata": {},
   "outputs": [
    {
     "data": {
      "text/plain": [
       "2.8141689404954007"
      ]
     },
     "execution_count": 53,
     "metadata": {},
     "output_type": "execute_result"
    }
   ],
   "source": [
    "predictions = xgb_model.predict(X_test)\n",
    "\n",
    "mae = mean_absolute_error(y_test_qtd, predictions)\n",
    "\n",
    "rmse = np.sqrt(mean_squared_error(y_test_qtd, predictions))\n",
    "\n",
    "mae"
   ]
  },
  {
   "cell_type": "code",
   "execution_count": 54,
   "id": "e9c12e6e",
   "metadata": {},
   "outputs": [
    {
     "data": {
      "text/plain": [
       "array([12.308918, 12.425403, 12.425403, 12.178843, 12.178843, 12.178843,\n",
       "       12.178843, 12.062358, 12.178843, 12.178843, 12.178843, 12.178843,\n",
       "       11.251092, 11.251092, 11.134607, 11.251092, 11.251092, 11.251092,\n",
       "       11.251092, 11.251092, 11.251092, 11.134607, 11.251092, 11.243338,\n",
       "       11.243338, 11.234285, 11.234285, 11.234285, 11.117801, 11.125108,\n",
       "       11.125108, 12.425403, 12.425403, 12.425403, 12.178843, 12.062358,\n",
       "       12.178843, 12.178843, 12.178843, 12.178843, 12.178843, 12.178843,\n",
       "       12.062358, 11.251092, 11.251092, 11.251092, 11.251092, 11.251092,\n",
       "       11.251092, 11.134607, 11.251092, 11.251092, 11.251092, 11.251092,\n",
       "       11.243338, 11.243338, 11.117801, 11.234285, 11.234285, 12.425403,\n",
       "       12.425403, 12.425403, 12.166976, 12.050491, 12.166976, 12.166976,\n",
       "       12.166976, 12.166976, 12.166976, 12.166976, 12.050491, 11.239225,\n",
       "       11.239225, 11.239225, 11.239225, 11.239225, 11.239225, 11.122741,\n",
       "       11.239225, 11.239225, 11.239225, 11.239225, 11.231471, 11.231471,\n",
       "       11.105934, 11.222419, 11.222419, 11.222419, 11.113241, 11.113241,\n",
       "       12.425403, 12.308918, 12.425403, 12.166976, 12.166976, 12.166976,\n",
       "       12.166976, 12.166976, 12.050491, 12.166976, 12.166976, 12.166976,\n",
       "       11.239225, 11.239225, 11.239225, 11.122741, 11.239225, 11.239225,\n",
       "       11.239225, 11.239225, 11.239225, 11.239225, 11.122741, 11.231471,\n",
       "       11.231471, 11.222419, 11.222419, 11.222419, 11.222419, 10.996757,\n",
       "       12.425403, 12.425403, 12.425403, 12.166976, 12.166976, 12.166976,\n",
       "       12.050491, 12.166976, 12.166976, 12.166976, 12.166976, 12.166976,\n",
       "       11.239225, 11.122741, 11.239225, 11.239225, 11.239225, 11.239225,\n",
       "       11.239225, 11.239225, 11.122741, 11.239225, 11.239225, 11.231471,\n",
       "       11.231471, 11.222419, 11.222419, 11.105934, 11.222419, 11.113241,\n",
       "       11.113241, 12.425403, 12.425403, 12.425403, 12.050491, 12.166976,\n",
       "       12.166976, 12.166976, 12.166976, 12.166976, 12.166976, 12.050491,\n",
       "       12.166976, 11.239225, 11.239225, 11.239225, 11.239225, 11.239225,\n",
       "       11.122741, 11.239225, 11.239225, 11.239225, 11.239225, 11.239225,\n",
       "       11.231471, 11.114986, 11.222419, 11.222419, 11.222419, 11.222419,\n",
       "       11.113241, 12.810606, 12.694121, 12.810606, 12.166976, 12.166976,\n",
       "       12.166976, 12.166976, 12.166976, 12.050491, 12.166976, 12.166976,\n",
       "       12.166976, 11.239225, 11.239225, 11.239225, 11.122741, 11.239225,\n",
       "       11.239225, 11.239225, 11.239225, 11.239225, 11.239225, 11.122741,\n",
       "       11.231471, 11.231471, 11.222419, 11.222419, 11.222419, 11.222419,\n",
       "       10.996757, 11.113241, 12.810606, 12.810606, 12.810606, 12.166976,\n",
       "       12.166976, 12.050491, 12.166976, 12.166976, 12.166976, 12.166976,\n",
       "       12.166976, 12.166976, 11.122741, 11.239225, 11.239225, 11.239225,\n",
       "       11.239225, 11.239225, 11.239225, 11.122741, 11.239225, 11.239225,\n",
       "       11.239225, 11.231471, 11.231471, 11.222419, 11.105934, 11.222419,\n",
       "       11.222419, 11.113241, 11.113241, 12.810606, 12.810606, 12.694121,\n",
       "       12.166976, 12.166976, 12.166976, 12.166976, 12.166976, 12.166976,\n",
       "       12.050491, 12.166976, 12.166976, 11.239225, 11.239225, 11.239225,\n",
       "       11.239225, 11.122741, 11.239225, 11.239225, 11.239225, 11.239225,\n",
       "       11.239225, 11.239225, 11.114986, 11.231471, 11.222419, 11.222419,\n",
       "       11.222419, 11.222419, 11.113241, 12.694121, 12.810606, 12.810606,\n",
       "       12.166976, 12.166976, 12.166976, 12.166976, 12.050491, 12.166976,\n",
       "       12.166976, 12.166976, 12.166976, 11.239225, 11.239225, 11.122741,\n",
       "       11.239225, 11.239225, 11.239225, 11.239225, 11.239225, 11.239225,\n",
       "       11.122741, 11.239225, 11.231471, 11.231471, 11.222419, 11.222419,\n",
       "       11.222419, 11.105934, 11.113241, 11.113241, 12.810606, 12.810606,\n",
       "       12.810606, 12.166976, 12.050491, 12.166976, 12.166976, 12.166976,\n",
       "       12.166976, 12.166976, 12.166976, 12.050491, 11.239225, 11.239225,\n",
       "       11.239225, 11.239225, 11.239225, 11.239225, 11.122741, 11.239225,\n",
       "       11.239225, 11.239225, 11.239225, 11.231471, 11.231471, 11.105934,\n",
       "       11.222419, 11.222419, 11.222419, 11.113241, 12.810606, 12.810606,\n",
       "       12.694121, 12.166976, 12.166976, 12.166976, 12.166976, 12.166976,\n",
       "       12.166976, 12.050491, 12.166976, 12.166976, 11.239225, 11.239225,\n",
       "       11.239225, 11.239225, 11.122741, 11.239225, 11.239225, 11.239225,\n",
       "       11.239225, 11.239225, 11.239225, 11.114986, 11.231471, 11.222419,\n",
       "       11.222419, 11.222419, 11.222419, 11.113241, 10.996757, 12.425403,\n",
       "       12.425403, 12.425403, 12.178843, 12.178843, 12.178843, 12.062358,\n",
       "       12.178843, 12.178843, 12.178843, 12.178843, 12.178843, 11.251092,\n",
       "       11.134607, 11.251092, 11.251092, 11.251092, 11.251092, 11.251092,\n",
       "       11.251092, 11.134607, 11.251092, 11.251092, 11.243338, 11.243338,\n",
       "       11.234285, 11.234285, 11.117801, 11.234285, 11.125108, 11.125108,\n",
       "       12.425403, 12.425403, 12.425403, 12.062358, 12.178843, 12.178843,\n",
       "       12.178843, 12.178843, 12.178843, 12.178843, 12.062358, 12.178843,\n",
       "       11.251092, 11.251092, 11.251092, 11.251092, 11.251092, 11.134607,\n",
       "       11.251092, 11.251092, 11.251092, 11.251092, 11.251092, 11.243338,\n",
       "       11.126853, 11.234285, 11.234285, 11.234285, 11.234285, 12.425403,\n",
       "       12.425403, 12.308918, 12.166976, 12.166976, 12.166976, 12.166976,\n",
       "       12.166976, 12.166976, 12.050491, 12.166976, 12.166976, 11.239225,\n",
       "       11.239225, 11.239225, 11.239225, 11.122741, 11.239225, 11.239225,\n",
       "       11.239225, 11.239225, 11.239225, 11.239225, 11.114986, 11.231471,\n",
       "       11.222419, 11.222419, 11.222419, 11.222419, 11.113241, 10.996757,\n",
       "       12.425403, 12.425403, 12.425403, 12.166976, 12.166976, 12.166976,\n",
       "       12.050491, 12.166976, 12.166976, 12.166976, 12.166976, 12.166976,\n",
       "       11.239225, 11.122741, 11.239225, 11.239225, 11.239225, 11.239225,\n",
       "       11.239225, 11.239225, 11.122741, 11.239225, 11.239225, 11.231471,\n",
       "       11.231471, 11.222419, 11.222419, 11.105934, 11.222419, 11.113241,\n",
       "       12.425403, 12.425403, 12.425403, 12.166976, 12.050491, 12.166976,\n",
       "       12.166976, 12.166976, 12.166976, 12.166976, 12.166976, 12.050491,\n",
       "       11.239225, 11.239225, 11.239225, 11.239225, 11.239225, 11.239225,\n",
       "       11.122741, 11.239225, 11.239225, 11.239225, 11.239225, 11.231471,\n",
       "       11.231471, 11.105934, 11.222419, 11.222419, 11.222419, 11.113241,\n",
       "       11.113241, 12.425403, 12.308918, 12.425403, 12.166976, 12.166976,\n",
       "       12.166976, 12.166976, 12.166976, 12.050491, 12.166976, 12.166976,\n",
       "       12.166976, 11.239225, 11.239225, 11.239225, 11.122741, 11.239225,\n",
       "       11.239225, 11.239225, 11.239225, 11.239225, 11.239225, 11.122741,\n",
       "       11.231471, 11.231471, 11.222419, 11.222419, 11.222419, 11.222419,\n",
       "       10.996757, 12.810606, 12.810606, 12.810606, 12.166976, 12.166976,\n",
       "       12.166976, 12.050491, 12.166976, 12.166976, 12.166976, 12.166976,\n",
       "       12.166976, 11.239225, 11.122741, 11.239225, 11.239225, 11.239225,\n",
       "       11.239225, 11.239225, 11.239225, 11.122741, 11.239225, 11.239225,\n",
       "       11.231471, 11.231471, 11.222419, 11.222419, 11.105934, 11.222419,\n",
       "       11.113241, 11.113241, 12.810606, 12.810606, 12.810606, 12.050491,\n",
       "       12.166976, 12.166976, 12.166976, 12.166976, 12.166976, 12.166976,\n",
       "       12.050491, 12.166976, 11.239225, 11.239225, 11.239225, 11.239225,\n",
       "       11.239225, 11.122741, 11.239225, 11.239225, 11.239225, 11.239225,\n",
       "       11.239225, 11.231471, 11.114986, 11.222419, 11.222419, 11.222419,\n",
       "       11.222419, 11.113241, 11.113241, 12.694121, 12.810606, 12.810606,\n",
       "       12.166976, 12.166976, 12.166976, 12.166976, 12.050491, 12.166976,\n",
       "       12.166976, 12.166976, 12.166976, 11.239225, 11.239225, 11.122741,\n",
       "       11.239225, 11.239225, 11.239225, 11.239225, 11.239225, 11.239225,\n",
       "       11.122741, 11.239225, 11.231471, 11.231471, 11.222419, 11.222419,\n",
       "       11.222419, 11.105934, 11.113241, 12.810606, 12.810606, 12.810606,\n",
       "       12.166976, 12.166976, 12.050491, 12.166976, 12.166976, 12.166976,\n",
       "       12.166976, 12.166976, 12.166976, 11.122741, 11.239225, 11.239225,\n",
       "       11.239225, 11.239225, 11.239225, 11.239225, 11.122741, 11.239225,\n",
       "       11.239225, 11.239225, 11.231471, 11.231471, 11.222419, 11.105934,\n",
       "       11.222419, 11.222419, 11.113241, 11.113241, 12.810606, 12.810606,\n",
       "       12.694121, 12.166976, 12.166976, 12.166976, 12.166976, 12.166976,\n",
       "       12.166976, 12.050491, 12.166976, 12.166976, 11.239225, 11.239225,\n",
       "       11.239225, 11.239225, 11.122741, 11.239225, 11.239225, 11.239225,\n",
       "       11.239225, 11.239225, 11.239225, 11.114986, 11.231471, 11.222419,\n",
       "       11.222419, 11.222419, 11.222419, 11.113241, 12.694121, 12.810606,\n",
       "       12.810606, 12.166976, 12.166976, 12.166976, 12.166976, 12.050491,\n",
       "       12.166976, 12.166976, 12.166976, 12.166976, 11.239225, 11.239225,\n",
       "       11.122741, 11.239225, 11.239225, 11.239225, 11.239225, 11.239225,\n",
       "       11.239225, 11.122741, 11.239225, 11.231471, 11.231471, 11.222419,\n",
       "       11.222419, 11.222419, 11.105934, 11.113241], dtype=float32)"
      ]
     },
     "execution_count": 54,
     "metadata": {},
     "output_type": "execute_result"
    }
   ],
   "source": [
    "predictions_qtd = xgb_model.predict(X_all)\n",
    "predictions_qtd"
   ]
  },
  {
   "cell_type": "code",
   "execution_count": 55,
   "id": "1967379e",
   "metadata": {},
   "outputs": [
    {
     "name": "stdout",
     "output_type": "stream",
     "text": [
      "          Date  Predictions\n",
      "0   2023-01-01    12.308918\n",
      "1   2023-01-02    12.425403\n",
      "2   2023-01-03    12.425403\n",
      "3   2023-01-04    12.178843\n",
      "4   2023-01-05    12.178843\n",
      "..         ...          ...\n",
      "725 2024-12-26    11.222419\n",
      "726 2024-12-27    11.222419\n",
      "727 2024-12-28    11.222419\n",
      "728 2024-12-29    11.105934\n",
      "729 2024-12-30    11.113241\n",
      "\n",
      "[730 rows x 2 columns]\n"
     ]
    }
   ],
   "source": [
    "df_final_bruto = pd.DataFrame({'Date': future, 'Predictions': predictions_qtd})\n",
    "print(df_final_bruto)"
   ]
  }
 ],
 "metadata": {
  "kernelspec": {
   "display_name": "Python 3 (ipykernel)",
   "language": "python",
   "name": "python3"
  },
  "language_info": {
   "codemirror_mode": {
    "name": "ipython",
    "version": 3
   },
   "file_extension": ".py",
   "mimetype": "text/x-python",
   "name": "python",
   "nbconvert_exporter": "python",
   "pygments_lexer": "ipython3",
   "version": "3.11.7"
  }
 },
 "nbformat": 4,
 "nbformat_minor": 5
}
